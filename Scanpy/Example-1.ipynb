{
 "cells": [
  {
   "cell_type": "markdown",
   "id": "1ebe0659-8b18-4265-8600-5c7ba6c9966a",
   "metadata": {},
   "source": [
    "# Example 1: Using Scanpy with BRAD\n",
    "\n",
    "This provides an LLM wrapper for codes."
   ]
  },
  {
   "cell_type": "code",
   "execution_count": 1,
   "id": "365b35ea-65d9-48de-a283-7dab5902484c",
   "metadata": {},
   "outputs": [],
   "source": [
    "from BRAD import agent"
   ]
  },
  {
   "cell_type": "raw",
   "id": "cf6d942d-5442-4759-a3aa-744c5ac1549b",
   "metadata": {},
   "source": [
    "{\n",
    "    \"CODE\": {\n",
    "        \"path\": [\n",
    "            \"/home/jpic/BRAD-Examples/DMD-Biomarkers/scripts/\"\n",
    "        ]\n",
    "    },\n",
    "    \"PLANNER\": {\n",
    "        \"path\": \"/home/jpic/BRAD-Examples/DMD-Biomarkers/pipelines/\"\n",
    "    },\n",
    "    \"debug\": 1,\n",
    "    \"log_path\": \"/home/jpic/BRAD-Examples/DMD-Biomarkers/output/\",\n",
    "}"
   ]
  },
  {
   "cell_type": "code",
   "execution_count": 9,
   "id": "68188045-baeb-4a49-86c2-b76daa515698",
   "metadata": {},
   "outputs": [
    {
     "name": "stdout",
     "output_type": "stream",
     "text": [
      "\n",
      "Would you like to use a database with BRAD [Y/N]?\n"
     ]
    },
    {
     "name": "stdin",
     "output_type": "stream",
     "text": [
      " N\n"
     ]
    },
    {
     "name": "stderr",
     "output_type": "stream",
     "text": [
      "\u001b[32m2024-11-21 11:02:04 INFO semantic_router.utils.logger local\u001b[0m\n",
      "2024-11-21 11:02:05,173 - INFO - \n",
      "\n",
      "PLANNER:\n",
      "\n",
      "{}\n"
     ]
    },
    {
     "name": "stdout",
     "output_type": "stream",
     "text": [
      "Welcome to RAG! The chat log from this conversation will be saved to /home/jpic/BRAD-Examples/Scanpy/output/November 21, 2024 at 11:02:02 AM/log.json. How can I help?\n"
     ]
    }
   ],
   "source": [
    "bot = agent.Agent(\n",
    "    config='config-ex-1.json',\n",
    "    tools = ['CODE']\n",
    ")"
   ]
  },
  {
   "cell_type": "code",
   "execution_count": null,
   "id": "584e799a-2a17-4ab5-a67f-c6e1d56d5e83",
   "metadata": {},
   "outputs": [
    {
     "name": "stdout",
     "output_type": "stream",
     "text": [
      "==================================================\n"
     ]
    },
    {
     "name": "stdin",
     "output_type": "stream",
     "text": [
      "Input >>  /force CODE Using the data from /nfs/turbo/umms-indikar/shared/projects/DGC/data/tabula_sapiens/extract/TS_Liver.h5ad, perform a PCA and save a visualization of the results.\n"
     ]
    },
    {
     "name": "stderr",
     "output_type": "stream",
     "text": [
      "2024-11-21 11:02:11,006 - INFO - CODE\n",
      "2024-11-21 11:02:11,007 - INFO - CODER\n",
      "2024-11-21 11:02:11,009 - INFO - input_variables=['user_query'] template=\"You must select which code to run to help a user.\\n\\n**Available Scripts**\\nScript Name: scanpy-brad, \\t Description: This script executes a series of scanpy commands on an AnnData object loaded from a .h5ad file and saves the resulting AnnData object back to disk.\\n\\n\\n**User Query**\\n{user_query}\\n\\n**Task**\\nBased on the user's query, select the best script from the available scripts. Provide the script name and explain why it is the best match. If no script is good, replace script with None\\n\\n**Response Template**\\nSCRIPT: <selected script>\\nREASON: <reasoning why the script fits the user prompt>\\n\"\n",
      "2024-11-21 11:02:11,010 - INFO - FIRST LLM CALL\n"
     ]
    },
    {
     "name": "stdout",
     "output_type": "stream",
     "text": [
      "==================================================\n",
      "BRAD >> 1: \n"
     ]
    },
    {
     "name": "stderr",
     "output_type": "stream",
     "text": [
      "2024-11-21 11:02:12,767 - INFO - HTTP Request: POST https://api.openai.com/v1/chat/completions \"HTTP/1.1 200 OK\"\n",
      "2024-11-21 11:02:12,769 - INFO - SCRIPT: scanpy-brad\n",
      "REASON: The scanpy-brad script is the best match for the user's query because it specifically executes scanpy commands on an AnnData object loaded from a .h5ad file, which is exactly what the user needs to perform PCA on the data from TS_Liver.h5ad and save a visualization of the results.\n",
      "2024-11-21 11:02:12,770 - INFO - scriptPath=/home/jpic/BRAD-Examples/Scanpy/scripts/\n",
      "2024-11-21 11:02:12,771 - INFO - ALL SCRIPTS FOUND. BUILDING TEMPLATE\n",
      "2024-11-21 11:02:12,773 - INFO - input_variables=['history', 'input'] template='Current conversation:\\n{history}\\n\\n**PYTHON SCRIPT**\\nYou must run this python script:\\n/home/jpic/BRAD-Examples/Scanpy/scripts/scanpy-brad.py\\n\\n**PYTHON SCRIPT DOCUMENTATION**:\\nThis is the doc string of this python script:\\n\"\"\"\\nThis script executes a series of scanpy commands on an AnnData object loaded from a .h5ad file and saves the resulting AnnData object back to disk.\\n\\nArguments (four arguments):\\n    1. output directory: chatstatus[\\'output-directory\\']\\n    2. output file: <name of output file>\\n    3. input file: <file created in previous step>\\n    4. scanpy commands: a list of scanpy commands to be executed on the AnnData object (provided as a single string with commands separated by a delimiter, e.g., \\';\\')\\n\\nBased on the arguments, the input file will be loaded, then your commands will be executed, and finally, the output or resulting ann data object will be saved to the corrrectou output file and directory. Your code is not responsible for loading the .h5ad object, that will happen automatically, and when loaded, the object will be called adata. Your scanpy commands can operate directly on the adata object that will be loaded for you.\\n\\nAdditionally, the following imports are already provided for you and can be used in your code:\\n```\\nimport scanpy as sc\\nimport seaborn as sns\\nimport matplotlib.pyplot as plt\\nimport os\\n```\\n\\n**Usage**\\nBRAD Line:\\n```\\nsubprocess.run([sys.executable, \"<path/to/script/>/scanpy_brad.py\", chatstatus[\\'output-directory\\'], <output file>, <input file>, \"<scanpy commands>\"], capture_output=True, text=True)\\n```\\n\\n**Examples**\\nUse the below examples to help generate your code.\\n\\n*Example 1*\\nUser Prompt: Run scanpy preprocessing and UMAP visualization on XXX.h5ad and save the UMAP plot\\nResponse Code:\\n```\\nresponse = subprocess.run([sys.executable, \"<path/to/script/>/scanpy_brad.py\", chatstatus[\\'output-directory\\'], \"XXX-modified.h5ad\", \"<path/to/data>/XXX.h5ad\", \"sc.pp.neighbors(adata); sc.tl.umap(adata); sc.pl.umap(adata, save=\\'umap.png\\')\"], capture_output=True, text=True)\\n```\\nExplination: the adata object will be loaded in memory already. The command \"sc.pp.neighbors(adata)\" will preprocess the data, then the command \"sc.tl.umap(adata)\" will perform UMAP, and finally the command \"sc.pl.umap(adata, \\'umap.png\\')\" will save the UMAP to a well named file.\\n\\n*Example 2*\\nUser Prompt: Perform PCA and clustering on the dataset YYY.h5ad and save the PCA plot\\nResponse Code:\\n```\\nresponse = subprocess.run([sys.executable, \"<path/to/script/>/scanpy_brad.py\", chatstatus[\\'output-directory\\'], \"YYY-modified.h5ad\", \"<path/to/data>/YYY.h5ad\", \"sc.pp.pca(adata); sc.tl.leiden(adata); sc.pl.pca(adata, save=\\'pca.png\\')\"], capture_output=True, text=True)\\n```\\nExplination: the adata object will be loaded in memory already. The command \"sc.pp.pca(adata)\" will preprocess the data, then the command \"sc.tl.leiden(adata)\" will perform the leiden algorithm, and finally the command \"sc.pl.pca(adata, save=\\'pca.png\\')\" will save the PCA to a well named file.\\n\\n**OUTPUT FILE NAME INSTRUCTIONS**\\n1. Output path should be chatstatus[\\'output-directory\\']\\n2. Output file name should be `<descriptive name>.h5ad`\\n\"\"\"\\n\\n\\n**CALL PYTHON SCRIPTS FROM PYTHON**:\\nUse the `subprocess` module to call any Python script from another Python script. Here are some examples to call a few common Python scripts:\\n\\nTo call a Python script `example_script.py` which has no arguments:\\n\\n```\\nExecute: subprocess.run([sys.executable, \\'<full path to script/> example_script.py\\', chatstatus[\\'output-directory\\']], capture_output=True, text=True)\\n```\\n\\nTo call a Python script `example_script.py` with one argument:\\n\\n```\\nExecute: subprocess.run([sys.executable, \\'<full path to script/> example_script.py\\', chatstatus[\\'output-directory\\'], \\'arg1\\'], capture_output=True, text=True)\\n```\\n\\nTo call a Python script `example_script.py` with two arguments:\\n```\\nExecute: subprocess.run([sys.executable, \\'<full path to script/> example_script.py\\', chatstatus[\\'output-directory\\'], \\'arg1\\', \\'arg2\\'], capture_output=True, text=True)\\n```\\n\\nNote that chatstatus[\\'output-directory\\'] is ALWAYS passed as the first argument.\\n\\nThe following files were previously created by BRAD and could be used as input to a function if necessary:\\nlog.json\\n\\nQuery:{input}\\n\\n**PYTHON SCRIPT**\\nPlease use the correct script name and path. You must run this python script:\\n/home/jpic/BRAD-Examples/Scanpy/scripts/scanpy-brad.py\\n\\n**INSTRUCTIONS**\\n1. Given the user query and the documentation, identify each of the arguments found in the user\\'s query that should be passed to the Python script.\\n2. Using the `subprocess` module, provide the one line of code to execute the desired Python script with the given arguments. Assume the necessary modules (`subprocess` and `sys`) are already imported.\\n3. The last line of your response should say \"Execute: <Python code to execute>\"\\n4. Do not include any extra words or characters. Format the response/output as:\\n    Arguments: \\n    Python Code Explanation: <2 sentences maximum>\\n    Execute: <your code here>\\n\\n**IMPORTANT**\\nThe code to execute from your response must be formatted as:\\n    Execute: subprocess.call([sys.executable, \\'<path to python script>\\', \\'<argument 1>\\', \\'<argument 2>\\', ..., \\'<argument n>\\'], capture_output=True, text=True))\\nThis output should be exactly one line and no longer. Stop the response after this line.\\n'\n",
      "/home/jpic/.local/lib/python3.11/site-packages/langchain_core/runnables/base.py:2873: RuntimeWarning: coroutine 'ConversationBufferMemory.abuffer' was never awaited\n",
      "  input = step.invoke(input, config, **kwargs)\n",
      "RuntimeWarning: Enable tracemalloc to get the object allocation traceback\n",
      "2024-11-21 11:02:17,708 - INFO - HTTP Request: POST https://api.openai.com/v1/chat/completions \"HTTP/1.1 200 OK\"\n"
     ]
    },
    {
     "name": "stdout",
     "output_type": "stream",
     "text": [
      "\n",
      "\n",
      "\u001b[1m> Entering new ConversationChain chain...\u001b[0m\n",
      "Prompt after formatting:\n",
      "\u001b[32;1m\u001b[1;3mCurrent conversation:\n",
      "\n",
      "\n",
      "**PYTHON SCRIPT**\n",
      "You must run this python script:\n",
      "/home/jpic/BRAD-Examples/Scanpy/scripts/scanpy-brad.py\n",
      "\n",
      "**PYTHON SCRIPT DOCUMENTATION**:\n",
      "This is the doc string of this python script:\n",
      "\"\"\"\n",
      "This script executes a series of scanpy commands on an AnnData object loaded from a .h5ad file and saves the resulting AnnData object back to disk.\n",
      "\n",
      "Arguments (four arguments):\n",
      "    1. output directory: chatstatus['output-directory']\n",
      "    2. output file: <name of output file>\n",
      "    3. input file: <file created in previous step>\n",
      "    4. scanpy commands: a list of scanpy commands to be executed on the AnnData object (provided as a single string with commands separated by a delimiter, e.g., ';')\n",
      "\n",
      "Based on the arguments, the input file will be loaded, then your commands will be executed, and finally, the output or resulting ann data object will be saved to the corrrectou output file and directory. Your code is not responsible for loading the .h5ad object, that will happen automatically, and when loaded, the object will be called adata. Your scanpy commands can operate directly on the adata object that will be loaded for you.\n",
      "\n",
      "Additionally, the following imports are already provided for you and can be used in your code:\n",
      "```\n",
      "import scanpy as sc\n",
      "import seaborn as sns\n",
      "import matplotlib.pyplot as plt\n",
      "import os\n",
      "```\n",
      "\n",
      "**Usage**\n",
      "BRAD Line:\n",
      "```\n",
      "subprocess.run([sys.executable, \"<path/to/script/>/scanpy_brad.py\", chatstatus['output-directory'], <output file>, <input file>, \"<scanpy commands>\"], capture_output=True, text=True)\n",
      "```\n",
      "\n",
      "**Examples**\n",
      "Use the below examples to help generate your code.\n",
      "\n",
      "*Example 1*\n",
      "User Prompt: Run scanpy preprocessing and UMAP visualization on XXX.h5ad and save the UMAP plot\n",
      "Response Code:\n",
      "```\n",
      "response = subprocess.run([sys.executable, \"<path/to/script/>/scanpy_brad.py\", chatstatus['output-directory'], \"XXX-modified.h5ad\", \"<path/to/data>/XXX.h5ad\", \"sc.pp.neighbors(adata); sc.tl.umap(adata); sc.pl.umap(adata, save='umap.png')\"], capture_output=True, text=True)\n",
      "```\n",
      "Explination: the adata object will be loaded in memory already. The command \"sc.pp.neighbors(adata)\" will preprocess the data, then the command \"sc.tl.umap(adata)\" will perform UMAP, and finally the command \"sc.pl.umap(adata, 'umap.png')\" will save the UMAP to a well named file.\n",
      "\n",
      "*Example 2*\n",
      "User Prompt: Perform PCA and clustering on the dataset YYY.h5ad and save the PCA plot\n",
      "Response Code:\n",
      "```\n",
      "response = subprocess.run([sys.executable, \"<path/to/script/>/scanpy_brad.py\", chatstatus['output-directory'], \"YYY-modified.h5ad\", \"<path/to/data>/YYY.h5ad\", \"sc.pp.pca(adata); sc.tl.leiden(adata); sc.pl.pca(adata, save='pca.png')\"], capture_output=True, text=True)\n",
      "```\n",
      "Explination: the adata object will be loaded in memory already. The command \"sc.pp.pca(adata)\" will preprocess the data, then the command \"sc.tl.leiden(adata)\" will perform the leiden algorithm, and finally the command \"sc.pl.pca(adata, save='pca.png')\" will save the PCA to a well named file.\n",
      "\n",
      "**OUTPUT FILE NAME INSTRUCTIONS**\n",
      "1. Output path should be chatstatus['output-directory']\n",
      "2. Output file name should be `<descriptive name>.h5ad`\n",
      "\"\"\"\n",
      "\n",
      "\n",
      "**CALL PYTHON SCRIPTS FROM PYTHON**:\n",
      "Use the `subprocess` module to call any Python script from another Python script. Here are some examples to call a few common Python scripts:\n",
      "\n",
      "To call a Python script `example_script.py` which has no arguments:\n",
      "\n",
      "```\n",
      "Execute: subprocess.run([sys.executable, '<full path to script/> example_script.py', chatstatus['output-directory']], capture_output=True, text=True)\n",
      "```\n",
      "\n",
      "To call a Python script `example_script.py` with one argument:\n",
      "\n",
      "```\n",
      "Execute: subprocess.run([sys.executable, '<full path to script/> example_script.py', chatstatus['output-directory'], 'arg1'], capture_output=True, text=True)\n",
      "```\n",
      "\n",
      "To call a Python script `example_script.py` with two arguments:\n",
      "```\n",
      "Execute: subprocess.run([sys.executable, '<full path to script/> example_script.py', chatstatus['output-directory'], 'arg1', 'arg2'], capture_output=True, text=True)\n",
      "```\n",
      "\n",
      "Note that chatstatus['output-directory'] is ALWAYS passed as the first argument.\n",
      "\n",
      "The following files were previously created by BRAD and could be used as input to a function if necessary:\n",
      "log.json\n",
      "\n",
      "Query:Using the data from /nfs/turbo/umms-indikar/shared/projects/DGC/data/tabula_sapiens/extract/TS_Liver.h5ad, perform a PCA and save a visualization of the results.\n",
      "\n",
      "**PYTHON SCRIPT**\n",
      "Please use the correct script name and path. You must run this python script:\n",
      "/home/jpic/BRAD-Examples/Scanpy/scripts/scanpy-brad.py\n",
      "\n",
      "**INSTRUCTIONS**\n",
      "1. Given the user query and the documentation, identify each of the arguments found in the user's query that should be passed to the Python script.\n",
      "2. Using the `subprocess` module, provide the one line of code to execute the desired Python script with the given arguments. Assume the necessary modules (`subprocess` and `sys`) are already imported.\n",
      "3. The last line of your response should say \"Execute: <Python code to execute>\"\n",
      "4. Do not include any extra words or characters. Format the response/output as:\n",
      "    Arguments: \n",
      "    Python Code Explanation: <2 sentences maximum>\n",
      "    Execute: <your code here>\n",
      "\n",
      "**IMPORTANT**\n",
      "The code to execute from your response must be formatted as:\n",
      "    Execute: subprocess.call([sys.executable, '<path to python script>', '<argument 1>', '<argument 2>', ..., '<argument n>'], capture_output=True, text=True))\n",
      "This output should be exactly one line and no longer. Stop the response after this line.\n",
      "\u001b[0m\n"
     ]
    },
    {
     "name": "stderr",
     "output_type": "stream",
     "text": [
      "2024-11-21 11:02:21,731 - INFO - HTTP Request: POST https://api.openai.com/v1/chat/completions \"HTTP/1.1 200 OK\"\n",
      "2024-11-21 11:02:21,733 - INFO - LLM OUTPUT PARSER\n",
      "2024-11-21 11:02:21,733 - INFO - Arguments:\n",
      "1. Output directory: chatstatus['output-directory']\n",
      "2. Output file: \"PCA_results.h5ad\"\n",
      "3. Input file: \"/nfs/turbo/umms-indikar/shared/projects/DGC/data/tabula_sapiens/extract/TS_Liver.h5ad\"\n",
      "4. Scanpy commands: \"sc.pp.pca(adata); sc.pl.pca(adata, save='pca_results.png')\"\n",
      "\n",
      "Python Code Explanation: The provided arguments include the output directory, output file name, input file path, and the scanpy commands to perform PCA and save the visualization.\n",
      "\n",
      "Execute: subprocess.call([sys.executable, '/home/jpic/BRAD-Examples/Scanpy/scripts/scanpy-brad.py', chatstatus['output-directory'], \"PCA_results.h5ad\", \"/nfs/turbo/umms-indikar/shared/projects/DGC/data/tabula_sapiens/extract/TS_Liver.h5ad\", \"sc.pp.pca(adata); sc.pl.pca(adata, save='pca_results.png')\"], capture_output=True, text=True)\n",
      "2024-11-21 11:02:21,734 - INFO - ['Arguments:\\n1. Output directory: chatstatus[\\'output-directory\\']\\n2. Output file: \"PCA_results.h5ad\"\\n3. Input file: \"/nfs/turbo/umms-indikar/shared/projects/DGC/data/tabula_sapiens/extract/TS_Liver.h5ad\"\\n4. Scanpy commands: \"sc.pp.pca(adata); sc.pl.pca(adata, save=\\'pca_results.png\\')\"\\n\\nPython Code Explanation: The provided arguments include the output directory, output file name, input file path, and the scanpy commands to perform PCA and save the visualization.\\n\\n', ' subprocess.call([sys.executable, \\'/home/jpic/BRAD-Examples/Scanpy/scripts/scanpy-brad.py\\', chatstatus[\\'output-directory\\'], \"PCA_results.h5ad\", \"/nfs/turbo/umms-indikar/shared/projects/DGC/data/tabula_sapiens/extract/TS_Liver.h5ad\", \"sc.pp.pca(adata); sc.pl.pca(adata, save=\\'pca_results.png\\')\"], capture_output=True, text=True)']\n",
      "2024-11-21 11:02:21,734 - INFO - Stripped funciton call\n",
      "2024-11-21 11:02:21,734 - INFO - subprocess.call([sys.executable, '/home/jpic/BRAD-Examples/Scanpy/scripts/scanpy-brad.py', chatstatus['output-directory'], \"PCA_results.h5ad\", \"/nfs/turbo/umms-indikar/shared/projects/DGC/data/tabula_sapiens/extract/TS_Liver.h5ad\", \"sc.pp.pca(adata); sc.pl.pca(adata, save='pca_results.png')\"], capture_output=True, text=True)\n",
      "2024-11-21 11:02:21,735 - INFO - Cleaned up function call:\n",
      "\n",
      "2024-11-21 11:02:21,735 - INFO - subprocess.run([sys.executable, '/home/jpic/BRAD-Examples/Scanpy/scripts/scanpy-brad.py', chatstatus['output-directory'], \"PCA_results.h5ad\", \"/nfs/turbo/umms-indikar/shared/projects/DGC/data/tabula_sapiens/extract/TS_Liver.h5ad\", \"sc.pp.pca(adata); sc.pl.pca(adata, save='pca_results.png')\"], capture_output=True, text=True)\n",
      "2024-11-21 11:02:21,736 - INFO - \n",
      "\n",
      "2024-11-21 11:02:21,737 - INFO - EVAL\n",
      "2024-11-21 11:02:21,737 - INFO - subprocess.run([sys.executable, '/home/jpic/BRAD-Examples/Scanpy/scripts/scanpy-brad.py', chatstatus['output-directory'], \"PCA_results.h5ad\", \"/nfs/turbo/umms-indikar/shared/projects/DGC/data/tabula_sapiens/extract/TS_Liver.h5ad\", \"sc.pp.pca(adata); sc.pl.pca(adata, save='pca_results.png')\"], capture_output=True, text=True)\n",
      "2024-11-21 11:02:21,737 - INFO - END EVAL CHECK\n",
      "2024-11-21 11:02:21,738 - INFO - PYTHON CODE OUTPUT DIRECTORY CHANGED\n",
      "2024-11-21 11:02:21,738 - INFO - subprocess.run([sys.executable, '/home/jpic/BRAD-Examples/Scanpy/scripts/scanpy-brad.py', state['output-directory'], \"PCA_results.h5ad\", \"/nfs/turbo/umms-indikar/shared/projects/DGC/data/tabula_sapiens/extract/TS_Liver.h5ad\", \"sc.pp.pca(adata); sc.pl.pca(adata, save='pca_results.png')\"], capture_output=True, text=True)\n",
      "2024-11-21 11:02:21,739 - INFO - Finalized PYTHON Call:\n",
      "2024-11-21 11:02:21,739 - INFO -    \n",
      "2024-11-21 11:02:21,739 - INFO - response = subprocess.run([sys.executable, '/home/jpic/BRAD-Examples/Scanpy/scripts/scanpy-brad.py', state['output-directory'], \"PCA_results.h5ad\", \"/nfs/turbo/umms-indikar/shared/projects/DGC/data/tabula_sapiens/extract/TS_Liver.h5ad\", \"sc.pp.pca(adata); sc.pl.pca(adata, save='pca_results.png')\"], capture_output=True, text=True)\n",
      "2024-11-21 11:02:21,740 - INFO -    \n"
     ]
    },
    {
     "name": "stdout",
     "output_type": "stream",
     "text": [
      "\n",
      "\u001b[1m> Finished chain.\u001b[0m\n"
     ]
    },
    {
     "name": "stderr",
     "output_type": "stream",
     "text": [
      "2024-11-21 11:02:33,052 - INFO - Debug: PYTHON code executed successfully.\n",
      "2024-11-21 11:02:33,053 - INFO - Code Execution Output:\n",
      "2024-11-21 11:02:33,054 - INFO - CompletedProcess(args=['/sw/pkgs/arc/python3.11-anaconda/2024.02-1/bin/python', '/home/jpic/BRAD-Examples/Scanpy/scripts/scanpy-brad.py', '/home/jpic/BRAD-Examples/Scanpy/output/November 21, 2024 at 11:02:02 AM', 'PCA_results.h5ad', '/nfs/turbo/umms-indikar/shared/projects/DGC/data/tabula_sapiens/extract/TS_Liver.h5ad', \"sc.pp.pca(adata); sc.pl.pca(adata, save='pca_results.png')\"], returncode=0, stdout=\"adata loaded from /nfs/turbo/umms-indikar/shared/projects/DGC/data/tabula_sapiens/extract/TS_Liver.h5ad\\nadata.shape=(5007, 58870)\\nadata.obs.columns=Index(['organ_tissue', 'method', 'donor', 'anatomical_information',\\n       'n_counts_UMIs', 'n_genes', 'cell_ontology_class', 'free_annotation',\\n       'manually_annotated', 'compartment', 'gender'],\\n      dtype='object')\\nadata.obs.head()=                                       organ_tissue method  ...  compartment gender\\ncell_id                                                     ...                    \\nAAACCCACACTCCTGT_TSP6_Liver_NA_10X_1_1        Liver    10X  ...       immune   male\\nAAACGAAGTACCAGAG_TSP6_Liver_NA_10X_1_1        Liver    10X  ...       immune   male\\nAAACGCTCAACGGCTC_TSP6_Liver_NA_10X_1_1        Liver    10X  ...  endothelial   male\\nAAAGAACAGCCTCTTC_TSP6_Liver_NA_10X_1_1        Liver    10X  ...       immune   male\\nAAAGAACGTAGCACAG_TSP6_Liver_NA_10X_1_1        Liver    10X  ...       immune   male\\n\\n[5 rows x 11 columns]\\nadata.var.head()=             gene_symbol     feature_type  ...      mean       std\\nDDX11L1          DDX11L1  Gene Expression  ...  0.000039  0.005574\\nWASH7P            WASH7P  Gene Expression  ...  0.001080  0.031731\\nMIR6859-1      MIR6859-1  Gene Expression  ...  0.000033  0.005634\\nMIR1302-2HG  MIR1302-2HG  Gene Expression  ...  0.000048  0.008041\\nMIR1302-2      MIR1302-2  Gene Expression  ...  0.000000  1.000000\\n\\n[5 rows x 9 columns]\\n****************************\\n      EXECUTE COMMANDS      \\n****************************\\nsc.pp.pca(adata)\\nsc.pl.pca(adata, save='pca_results.png')\\nFigure(1200x1200)\\n\", stderr='WARNING: saving figure to file /home/jpic/BRAD-Examples/Scanpy/output/November 21, 2024 at 11:02:02 AM/pcapca_results.png\\n')\n",
      "2024-11-21 11:02:33,054 - INFO - Debug: PYTHON code output saved to output.\n",
      "2024-11-21 11:02:33,055 - INFO - \n",
      "\n",
      "\n",
      "route\n",
      "\n",
      "\n",
      "\n",
      "2024-11-21 11:02:33,056 - INFO - CODE\n",
      "2024-11-21 11:02:33,056 - INFO - \n",
      "\n",
      "PLANNER:\n",
      "\n",
      "{'module': 'CODE', 'steps': [{'llm': \"client=<openai.resources.chat.completions.Completions object at 0x1462412c4b50> async_client=<openai.resources.chat.completions.AsyncCompletions object at 0x14624127d7d0> model_name='gpt-3.5-turbo-0125' temperature=0.0 openai_api_key=SecretStr('**********') openai_proxy=''\", 'memory': 'None', 'prompt': 'input_variables=[\\'user_query\\'] template=\"You must select which code to run to help a user.\\\\n\\\\n**Available Scripts**\\\\nScript Name: scanpy-brad, \\\\t Description: This script executes a series of scanpy commands on an AnnData object loaded from a .h5ad file and saves the resulting AnnData object back to disk.\\\\n\\\\n\\\\n**User Query**\\\\n{user_query}\\\\n\\\\n**Task**\\\\nBased on the user\\'s query, select the best script from the available scripts. Provide the script name and explain why it is the best match. If no script is good, replace script with None\\\\n\\\\n**Response Template**\\\\nSCRIPT: <selected script>\\\\nREASON: <reasoning why the script fits the user prompt>\\\\n\"', 'input': 'Using the data from /nfs/turbo/umms-indikar/shared/projects/DGC/data/tabula_sapiens/extract/TS_Liver.h5ad, perform a PCA and save a visualization of the results.', 'output': '{\\'original\\': AIMessage(content=\"SCRIPT: scanpy-brad\\\\nREASON: The scanpy-brad script is the best match for the user\\'s query because it specifically executes scanpy commands on an AnnData object loaded from a .h5ad file, which is exactly what the user needs to perform PCA on the data from TS_Liver.h5ad and save a visualization of the results.\", response_metadata={\\'token_usage\\': {\\'completion_tokens\\': 74, \\'prompt_tokens\\': 185, \\'total_tokens\\': 259, \\'prompt_tokens_details\\': {\\'cached_tokens\\': 0, \\'audio_tokens\\': 0}, \\'completion_tokens_details\\': {\\'reasoning_tokens\\': 0, \\'audio_tokens\\': 0, \\'accepted_prediction_tokens\\': 0, \\'rejected_prediction_tokens\\': 0}}, \\'model_name\\': \\'gpt-3.5-turbo-0125\\', \\'system_fingerprint\\': None, \\'finish_reason\\': \\'stop\\', \\'logprobs\\': None}, id=\\'run-b806cf68-c553-4969-a12e-034f4f398cad-0\\', usage_metadata={\\'input_tokens\\': 185, \\'output_tokens\\': 74, \\'total_tokens\\': 259}), \\'time\\': 1.7591924667358398, \\'call back\\': {\\'Total Tokens\\': 259, \\'Prompt Tokens\\': 185, \\'Completion Tokens\\': 74, \\'Total Cost (USD)\\': 0.0002035}}', 'parsedOutput': {'scriptName': '/home/jpic/BRAD-Examples/Scanpy/scripts/scanpy-brad.py', 'scriptType': 'python', 'scriptPath': '/home/jpic/BRAD-Examples/Scanpy/scripts/'}, 'api-info': None, 'purpose': 'Select which code to run'}, {'llm': \"client=<openai.resources.chat.completions.Completions object at 0x1462412c4b50> async_client=<openai.resources.chat.completions.AsyncCompletions object at 0x14624127d7d0> model_name='gpt-3.5-turbo-0125' temperature=0.0 openai_api_key=SecretStr('**********') openai_proxy=''\", 'memory': 'None', 'prompt': 'input_variables=[\\'history\\', \\'input\\'] template=\\'Current conversation:\\\\n{history}\\\\n\\\\n**PYTHON SCRIPT**\\\\nYou must run this python script:\\\\n/home/jpic/BRAD-Examples/Scanpy/scripts/scanpy-brad.py\\\\n\\\\n**PYTHON SCRIPT DOCUMENTATION**:\\\\nThis is the doc string of this python script:\\\\n\"\"\"\\\\nThis script executes a series of scanpy commands on an AnnData object loaded from a .h5ad file and saves the resulting AnnData object back to disk.\\\\n\\\\nArguments (four arguments):\\\\n    1. output directory: chatstatus[\\\\\\'output-directory\\\\\\']\\\\n    2. output file: <name of output file>\\\\n    3. input file: <file created in previous step>\\\\n    4. scanpy commands: a list of scanpy commands to be executed on the AnnData object (provided as a single string with commands separated by a delimiter, e.g., \\\\\\';\\\\\\')\\\\n\\\\nBased on the arguments, the input file will be loaded, then your commands will be executed, and finally, the output or resulting ann data object will be saved to the corrrectou output file and directory. Your code is not responsible for loading the .h5ad object, that will happen automatically, and when loaded, the object will be called adata. Your scanpy commands can operate directly on the adata object that will be loaded for you.\\\\n\\\\nAdditionally, the following imports are already provided for you and can be used in your code:\\\\n```\\\\nimport scanpy as sc\\\\nimport seaborn as sns\\\\nimport matplotlib.pyplot as plt\\\\nimport os\\\\n```\\\\n\\\\n**Usage**\\\\nBRAD Line:\\\\n```\\\\nsubprocess.run([sys.executable, \"<path/to/script/>/scanpy_brad.py\", chatstatus[\\\\\\'output-directory\\\\\\'], <output file>, <input file>, \"<scanpy commands>\"], capture_output=True, text=True)\\\\n```\\\\n\\\\n**Examples**\\\\nUse the below examples to help generate your code.\\\\n\\\\n*Example 1*\\\\nUser Prompt: Run scanpy preprocessing and UMAP visualization on XXX.h5ad and save the UMAP plot\\\\nResponse Code:\\\\n```\\\\nresponse = subprocess.run([sys.executable, \"<path/to/script/>/scanpy_brad.py\", chatstatus[\\\\\\'output-directory\\\\\\'], \"XXX-modified.h5ad\", \"<path/to/data>/XXX.h5ad\", \"sc.pp.neighbors(adata); sc.tl.umap(adata); sc.pl.umap(adata, save=\\\\\\'umap.png\\\\\\')\"], capture_output=True, text=True)\\\\n```\\\\nExplination: the adata object will be loaded in memory already. The command \"sc.pp.neighbors(adata)\" will preprocess the data, then the command \"sc.tl.umap(adata)\" will perform UMAP, and finally the command \"sc.pl.umap(adata, \\\\\\'umap.png\\\\\\')\" will save the UMAP to a well named file.\\\\n\\\\n*Example 2*\\\\nUser Prompt: Perform PCA and clustering on the dataset YYY.h5ad and save the PCA plot\\\\nResponse Code:\\\\n```\\\\nresponse = subprocess.run([sys.executable, \"<path/to/script/>/scanpy_brad.py\", chatstatus[\\\\\\'output-directory\\\\\\'], \"YYY-modified.h5ad\", \"<path/to/data>/YYY.h5ad\", \"sc.pp.pca(adata); sc.tl.leiden(adata); sc.pl.pca(adata, save=\\\\\\'pca.png\\\\\\')\"], capture_output=True, text=True)\\\\n```\\\\nExplination: the adata object will be loaded in memory already. The command \"sc.pp.pca(adata)\" will preprocess the data, then the command \"sc.tl.leiden(adata)\" will perform the leiden algorithm, and finally the command \"sc.pl.pca(adata, save=\\\\\\'pca.png\\\\\\')\" will save the PCA to a well named file.\\\\n\\\\n**OUTPUT FILE NAME INSTRUCTIONS**\\\\n1. Output path should be chatstatus[\\\\\\'output-directory\\\\\\']\\\\n2. Output file name should be `<descriptive name>.h5ad`\\\\n\"\"\"\\\\n\\\\n\\\\n**CALL PYTHON SCRIPTS FROM PYTHON**:\\\\nUse the `subprocess` module to call any Python script from another Python script. Here are some examples to call a few common Python scripts:\\\\n\\\\nTo call a Python script `example_script.py` which has no arguments:\\\\n\\\\n```\\\\nExecute: subprocess.run([sys.executable, \\\\\\'<full path to script/> example_script.py\\\\\\', chatstatus[\\\\\\'output-directory\\\\\\']], capture_output=True, text=True)\\\\n```\\\\n\\\\nTo call a Python script `example_script.py` with one argument:\\\\n\\\\n```\\\\nExecute: subprocess.run([sys.executable, \\\\\\'<full path to script/> example_script.py\\\\\\', chatstatus[\\\\\\'output-directory\\\\\\'], \\\\\\'arg1\\\\\\'], capture_output=True, text=True)\\\\n```\\\\n\\\\nTo call a Python script `example_script.py` with two arguments:\\\\n```\\\\nExecute: subprocess.run([sys.executable, \\\\\\'<full path to script/> example_script.py\\\\\\', chatstatus[\\\\\\'output-directory\\\\\\'], \\\\\\'arg1\\\\\\', \\\\\\'arg2\\\\\\'], capture_output=True, text=True)\\\\n```\\\\n\\\\nNote that chatstatus[\\\\\\'output-directory\\\\\\'] is ALWAYS passed as the first argument.\\\\n\\\\nThe following files were previously created by BRAD and could be used as input to a function if necessary:\\\\nlog.json\\\\n\\\\nQuery:{input}\\\\n\\\\n**PYTHON SCRIPT**\\\\nPlease use the correct script name and path. You must run this python script:\\\\n/home/jpic/BRAD-Examples/Scanpy/scripts/scanpy-brad.py\\\\n\\\\n**INSTRUCTIONS**\\\\n1. Given the user query and the documentation, identify each of the arguments found in the user\\\\\\'s query that should be passed to the Python script.\\\\n2. Using the `subprocess` module, provide the one line of code to execute the desired Python script with the given arguments. Assume the necessary modules (`subprocess` and `sys`) are already imported.\\\\n3. The last line of your response should say \"Execute: <Python code to execute>\"\\\\n4. Do not include any extra words or characters. Format the response/output as:\\\\n    Arguments: \\\\n    Python Code Explanation: <2 sentences maximum>\\\\n    Execute: <your code here>\\\\n\\\\n**IMPORTANT**\\\\nThe code to execute from your response must be formatted as:\\\\n    Execute: subprocess.call([sys.executable, \\\\\\'<path to python script>\\\\\\', \\\\\\'<argument 1>\\\\\\', \\\\\\'<argument 2>\\\\\\', ..., \\\\\\'<argument n>\\\\\\'], capture_output=True, text=True))\\\\nThis output should be exactly one line and no longer. Stop the response after this line.\\\\n\\'', 'input': 'Using the data from /nfs/turbo/umms-indikar/shared/projects/DGC/data/tabula_sapiens/extract/TS_Liver.h5ad, perform a PCA and save a visualization of the results.', 'output': '{\\'content\\': \\'Arguments:\\\\n1. Output directory: chatstatus[\\\\\\'output-directory\\\\\\']\\\\n2. Output file: \"PCA_results.h5ad\"\\\\n3. Input file: \"/nfs/turbo/umms-indikar/shared/projects/DGC/data/tabula_sapiens/extract/TS_Liver.h5ad\"\\\\n4. Scanpy commands: \"sc.pp.pca(adata); sc.pl.pca(adata, save=\\\\\\'pca_results.png\\\\\\')\"\\\\n\\\\nPython Code Explanation: The provided arguments include the output directory, output file name, input file path, and the scanpy commands to perform PCA and save the visualization.\\\\n\\\\nExecute: subprocess.call([sys.executable, \\\\\\'/home/jpic/BRAD-Examples/Scanpy/scripts/scanpy-brad.py\\\\\\', chatstatus[\\\\\\'output-directory\\\\\\'], \"PCA_results.h5ad\", \"/nfs/turbo/umms-indikar/shared/projects/DGC/data/tabula_sapiens/extract/TS_Liver.h5ad\", \"sc.pp.pca(adata); sc.pl.pca(adata, save=\\\\\\'pca_results.png\\\\\\')\"], capture_output=True, text=True)\\', \\'time\\': 4.023346900939941, \\'call back\\': {\\'Total Tokens\\': 1561, \\'Prompt Tokens\\': 1333, \\'Completion Tokens\\': 228, \\'Total Cost (USD)\\': 0.0010085}}', 'parsedOutput': {'code': 'subprocess.run([sys.executable, \\'/home/jpic/BRAD-Examples/Scanpy/scripts/scanpy-brad.py\\', chatstatus[\\'output-directory\\'], \"PCA_results.h5ad\", \"/nfs/turbo/umms-indikar/shared/projects/DGC/data/tabula_sapiens/extract/TS_Liver.h5ad\", \"sc.pp.pca(adata); sc.pl.pca(adata, save=\\'pca_results.png\\')\"], capture_output=True, text=True)'}, 'api-info': None, 'purpose': 'Format function call'}, {'func': 'pythonCaller.execute_python_code', 'code': 'response = subprocess.run([sys.executable, \\'/home/jpic/BRAD-Examples/Scanpy/scripts/scanpy-brad.py\\', state[\\'output-directory\\'], \"PCA_results.h5ad\", \"/nfs/turbo/umms-indikar/shared/projects/DGC/data/tabula_sapiens/extract/TS_Liver.h5ad\", \"sc.pp.pca(adata); sc.pl.pca(adata, save=\\'pca_results.png\\')\"], capture_output=True, text=True)', 'purpose': 'execute python code'}]}\n",
      "2024-11-21 11:02:33,061 - INFO - current llm calls=2\n"
     ]
    },
    {
     "name": "stdout",
     "output_type": "stream",
     "text": [
      "==================================================\n"
     ]
    }
   ],
   "source": [
    "bot.chat()"
   ]
  }
 ],
 "metadata": {
  "kernelspec": {
   "display_name": "Python 3 (ipykernel)",
   "language": "python",
   "name": "python3"
  },
  "language_info": {
   "codemirror_mode": {
    "name": "ipython",
    "version": 3
   },
   "file_extension": ".py",
   "mimetype": "text/x-python",
   "name": "python",
   "nbconvert_exporter": "python",
   "pygments_lexer": "ipython3",
   "version": "3.11.7"
  }
 },
 "nbformat": 4,
 "nbformat_minor": 5
}
