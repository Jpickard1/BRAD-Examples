{
 "cells": [
  {
   "cell_type": "markdown",
   "id": "1ebe0659-8b18-4265-8600-5c7ba6c9966a",
   "metadata": {},
   "source": [
    "# Example 1: Using Scanpy with BRAD\n",
    "\n",
    "This example illustrates how to include new tool modules into BRAD. From the [previous example](https://github.com/Jpickard1/BRAD-Examples/blob/main/RAG-SCRAPE/Example-1.ipynb), the following requirements of new tool modules were identified:\n",
    "\n",
    "1. **Create a New Python File**  \n",
    "   Add a new Python file in the `BRAD/` directory. This file must include:\n",
    "   - A **tool method** that accepts and returns a Python dictionary, representing the `Agent.state`.\n",
    "   - Any necessary **helper methods** to support the tool.\n",
    "\n",
    "2. **Update the Semantic Router**  \n",
    "   - Add a new set of routing files in the `BRAD/routes/` directory, allowing the semantic router to recognize when to select the tool.\n",
    "   - Update the `BRAD.routers.getRoutes()` method to include example prompts that guide the semantic router in using the new tool.\n",
    "\n",
    "3. **Modify the `Agent` Class**  \n",
    "   - Add the necessary imports in `agent.py` to include the new tool.\n",
    "   - Update the `Agent.getModules()` method to register the tool's main method.\n",
    "  \n",
    "In this notebook, we will walk though how the `SOFTWARE` module satisfies each of these."
   ]
  },
  {
   "cell_type": "markdown",
   "id": "fd92a7ac-b3fb-4552-a754-471d72adcf4a",
   "metadata": {},
   "source": [
    "## Implementing the Software Module\n",
    "\n",
    "### Scope\n",
    "The `SOFTWARE` module is designed to execute preexisting scripts that are relevant to BRAD's functionality. Unlike modules that retrieve information from documents or databases, this tool focuses on automating data analysis to help users uncover new insights. To achieve this, we utilize LLMs in a RAG-inspired workflow as follows:\n",
    "1. (R) Retrieve relevant information, such as software documentation and comments.\n",
    "2. (A) Construct a prompt using all available scripts and their corresponding documentation.\n",
    "3. (G) Use the LLM to identify and select the most appropriate script to address the user's query.\n",
    "4. (R) Retrieve the complete documentation for the selected script.\n",
    "5. (A) Generate a detailed prompt, incorporating techniques like few-shot prompting, to guide the LLM.\n",
    "6. (G) Instruct the LLM to produce a single line of code that runs the script and provides the user with new information.\n",
    "\n",
    "Whereas fully LLM generated code remains a significant challenge, using LLMs to identify and run the correct codes is a more feasible, practical application. Still, this requires LLMs to produce a line of code, but by minimizing the amount of code the LLM write, we can ensure that few-shot prompting techniques guide the LLM to formulate appropriate code.\n"
   ]
  },
  {
   "cell_type": "markdown",
   "id": "770c94c6-869d-408b-b8be-04f23c58f731",
   "metadata": {},
   "source": [
    "## 1. Create a New Python File\n",
    "\n",
    "To implement the `SOFTWARE` module, the `BRAD/coder.py` and `BRAD/pythonCaller.py` files were introduced (at one point, `BRAD/matlabCaller.py` existed, but this was removed due to the increased software dependencies). Within `coder.py`, the 6 stage pipeline outlined above is executed by the tool function `codeCaller()`. Like all tool modules, this method accepts as input `Agent.state` and returns the updated `state` dictionary. Packed within the passed `state` parameter are all the information necessary to work with the LLM and other resources of the `Agent`. For instance, the first few lines of `codeCaller` extract access to the LLM and user prompt with the code:\n",
    "\n",
    "```\n",
    "    prompt = state['prompt']  # Get the user prompt\r\n",
    "    llm = state['llm'        # Get access to the llm]```\n",
    "\n"
   ]
  },
  {
   "cell_type": "markdown",
   "id": "43e27eff-bb33-47f0-afdc-9e33b9b68940",
   "metadata": {},
   "source": [
    "This file contains helper methods and imports many python specific methods from `pythonCaller.py`. In particular, methods such as `find_py_files()`, `read_python_docstrings()`, and `get_py_description()` are important for the retrieval aspects of the workflow above.\n",
    "\n",
    "In addition to helper code for `codeCaller`, `coder.py` also imports methods from `BRAD.promptTemplates`, `BRAD.log` and `BRAD.utils`. The later two are two files that provide general functionality for developing with the LLM, managing the output directory, interfacing with the GUI, and more -- these do not necessarily need to be developed to build new tools. `promptTemplates.py` is a separate file that contains all the different prompt templates used thorughout BRAD. For the `CODE` tool, templates such as the `pythonPromptTemplate` and `scriptSelectorTemplate` were developed. These templates allow the developer to provide additional context, information, and examples to the LLM. In the `pythonPromptTemplate`, which asks the LLM to write one line of code, several examples as to what the particular code should look like are provided. Here is that template:"
   ]
  },
  {
   "cell_type": "raw",
   "id": "c2af101a-aab6-4fd3-a803-515a15d0c0db",
   "metadata": {},
   "source": [
    "Current conversation:\\n{{history}}\n",
    "\n",
    "**PYTHON SCRIPT**\n",
    "You must run this python script:\n",
    "{scriptName}\n",
    "\n",
    "**PYTHON SCRIPT DOCUMENTATION**:\n",
    "This is the doc string of this python script:\n",
    "{scriptDocumentation}\n",
    "\n",
    "**CALL PYTHON SCRIPTS FROM PYTHON**:\n",
    "Use the `subprocess` module to call any Python script from another Python script. Here are some examples to call a few common Python scripts:\n",
    "\n",
    "To call a Python script `example_script.py` which has no arguments:\n",
    "\n",
    "```\n",
    "Execute: subprocess.call([sys.executable, '<full path to script/> example_script.py', chatstatus['output-directory']])\n",
    "```\n",
    "\n",
    "To call a Python script `example_script.py` with one argument:\n",
    "\n",
    "```\n",
    "Execute: subprocess.call([sys.executable, '<full path to script/> example_script.py', chatstatus['output-directory'], 'arg1'])\n",
    "```\n",
    "\n",
    "To call a Python script `example_script.py` with two arguments:\n",
    "```\n",
    "Execute: subprocess.call([sys.executable, '<full path to script/> example_script.py', chatstatus['output-directory'], 'arg1', 'arg2'])\n",
    "```\n",
    "\n",
    "Note that chatstatus['output-directory'] is ALWAYS passed as the first argument.\n",
    "\n",
    "Query:{{input}}\n",
    "\n",
    "**PYTHON SCRIPT**\n",
    "Please use the correct script name and path. You must run this python script:\n",
    "{scriptName}\n",
    "\n",
    "**INSTRUCTIONS**\n",
    "1. Given the user query and the documentation, identify each of the arguments found in the user's query that should be passed to the Python script.\n",
    "2. Using the `subprocess` module, provide the one line of code to execute the desired Python script with the given arguments. Assume the necessary modules (`subprocess` and `sys`) are already imported.\n",
    "3. The last line of your response should say \"Execute: <Python code to execute>\"\n",
    "4. Format the response/output as:\n",
    "    Arguments: \n",
    "    Python Code Explanation: <2 sentences maximum>\n",
    "    Execute: <your code here>\n",
    "\n",
    "**IMPORTANT**\n",
    "The code to execute from your response must be formatted as:\n",
    "    Execute: subprocess.call([sys.executable, '<path to python script>', '<argument 1>', '<argument 2>', ..., '<argument n>'])\n",
    "This output should be exactly one line and no longer. Stop the response after this line.\n"
   ]
  },
  {
   "cell_type": "markdown",
   "id": "2edae81b-df32-4851-a463-7ed74987e7c4",
   "metadata": {},
   "source": [
    "Providing clear, explcitit examples and instructions allow us to leverage the LLM as more than just a router or control flow predictor, as we do to make selections in the `DATABASE` tool or search the archive, but rather leverage the generation capabilities of the tool to formate code.\n",
    "\n",
    "New templates can be placed here as needed."
   ]
  },
  {
   "cell_type": "markdown",
   "id": "64c77108-7dba-4119-8651-926291d8a5eb",
   "metadata": {},
   "source": [
    "## 2. Update the Semantic Routers\n",
    "\n",
    "To update the routing and allow access of the `SOFTWARE` module to an `Agent`, the file `BRAD/routers/code.txt` was created. To initialize the file and give the semantic router examples of what should use this tool, we initialized `code.txt` with the following prompts:"
   ]
  },
  {
   "cell_type": "raw",
   "id": "83b01e7f-9f5f-4558-b781-63606e8634b1",
   "metadata": {},
   "source": [
    "Generate a random dataset and create a PCA plot using Scanpy.\n",
    "Use Scanpy to cluster a randomly generated single-cell dataset and visualize the results with UMAP.\n",
    "Create a random gene expression matrix and perform differential expression analysis with Scanpy.\n",
    "Simulate a random single-cell RNA-seq dataset and preprocess it using Scanpy.\n",
    "Generate random metadata for a dataset and integrate it into an AnnData object using Scanpy.\n",
    "Visualize the random dataset's gene expression levels across different clusters with Scanpy.\n",
    "Apply normalization and log transformation to a random dataset using Scanpy.\n",
    "Perform batch correction on a randomly generated dataset using Scanpy's combat function.\n",
    "Create a random dataset and plot the results of hierarchical clustering with Scanpy.\n",
    "Simulate a random time-series single-cell dataset and analyze it with Scanpy.\n",
    "Generate random data and use Scanpy to identify highly variable genes.\n",
    "Create a random single-cell dataset and perform spatial analysis using Scanpy.\n",
    "Use Scanpy to create a heatmap of a randomly generated dataset's gene expression."
   ]
  },
  {
   "cell_type": "markdown",
   "id": "65b1e3bb-6d3d-44a7-a4b7-8fbdf0223495",
   "metadata": {},
   "source": [
    "Additionally, the following lines of code were added to the `getRouter` method in `BRAD/router.py`:\n",
    "\n",
    "```\n",
    "    if available is None or 'CODE' in available:\r\n",
    "        routeCode = Route(\r\n",
    "            name = 'CODE',\r\n",
    "            utterances = read_prompts(getRouterPath('code.txt'))\r\n",
    "        )\r\n",
    "        routes.append(routeC```ode)\r\n"
   ]
  },
  {
   "cell_type": "markdown",
   "id": "a9ee402a-0a2d-4487-a86e-da0a54d9b6a6",
   "metadata": {},
   "source": [
    "## 3. Modify the `Agent` Class\n",
    "\n",
    "The following modifications were made within `BRAD/agent.py`:\n",
    "1. The `CODE` tool is imported with the addition of: `from BRAD.coder import codeCaller`\n",
    "2. The `Agent` is given access to the `codeCaller` method with the addition of the following line within `Agent.getModules()`: `'CODE'   : codeCaller,`\r",
    "3. Additional configurations were placed within the `config/config.json` file to be used by the `CODE` tool.\n",
    "\n",
    "The following configuration parameter is included for the `CODE` tool to tell the `Agent` which python scripts are accessible.\n"
   ]
  },
  {
   "cell_type": "raw",
   "id": "cf6d942d-5442-4759-a3aa-744c5ac1549b",
   "metadata": {},
   "source": [
    "{\n",
    "    \"CODE\": {\n",
    "        \"path\": [\n",
    "            \"/home/jpic/BRAD-Examples/DMD-Biomarkers/scripts/\"\n",
    "        ]\n",
    "    }\n",
    "}"
   ]
  },
  {
   "cell_type": "markdown",
   "id": "e378ba5f-6572-4924-8aa1-62cf261b835c",
   "metadata": {},
   "source": [
    "While these do modify the `Agent` class, these modifications are relatively superficial and straightforward."
   ]
  },
  {
   "cell_type": "markdown",
   "id": "0493deaa-3153-44a5-ad96-6d8bd6b09913",
   "metadata": {},
   "source": [
    "## Using the `CODE` tool\n",
    "\n",
    "### Available Scripts\n",
    "\n",
    "To use this module, we first require a python script that is separate from the the BRAD software. In this case, we developed the below script, found at `scripts/scanpy-brad.py`, that provides access to run arbitrary `scanpy` commands:"
   ]
  },
  {
   "cell_type": "raw",
   "id": "e409c3ae-08e6-40ab-adcd-ccfb8a98bc33",
   "metadata": {},
   "source": [
    "import argparse\n",
    "import scanpy as sc\n",
    "import seaborn as sns\n",
    "import matplotlib.pyplot as plt\n",
    "import os\n",
    "\n",
    "def main(output_directory, output_file, input_file, scanpy_commands):\n",
    "\n",
    "    chatstatus = {\n",
    "        'output-directory': output_directory\n",
    "    }\n",
    "    sc.settings.figdir = output_directory\n",
    "    sc.set_figure_params(dpi=300)\n",
    "    \n",
    "    # Load the h5ad file using scanpy\n",
    "    adata = sc.read_h5ad(input_file)\n",
    "    print(f'adata loaded from {input_file}')\n",
    "    print(f'adata.shape={adata.shape}')\n",
    "    print(f'adata.obs.columns={adata.obs.columns}')\n",
    "    print(f'adata.obs.head()={adata.obs.head()}')\n",
    "    print(f'adata.var.head()={adata.var.head()}')\n",
    "\n",
    "    # Deserialize the scanpy commands\n",
    "    commands = scanpy_commands.split(';')\n",
    "\n",
    "    # Execute the list of scanpy commands in memory\n",
    "    print(\"****************************\")\n",
    "    print(\"      EXECUTE COMMANDS      \")\n",
    "    print(\"****************************\")\n",
    "    for command in commands:\n",
    "        command = command.strip()\n",
    "        print(command)\n",
    "        exec(command)\n",
    "\n",
    "    if not os.path.exists(output_directory):\n",
    "        os.makedirs(output_directory)\n",
    "    output_path = os.path.join(output_directory, output_file)\n",
    "    adata.write(output_path)\n",
    "\n",
    "if __name__ == \"__main__\":\n",
    "    parser = argparse.ArgumentParser(description='Execute scanpy commands on an AnnData object.')\n",
    "    parser.add_argument('output_directory', type=str, help='The output directory.')\n",
    "    parser.add_argument('output_file', type=str, help='The output file name.')\n",
    "    parser.add_argument('input_file', type=str, help='The input file name.')\n",
    "    parser.add_argument('scanpy_commands', type=str, help='The scanpy commands to be executed, separated by semicolons.')\n",
    "    args = parser.parse_args()\n",
    "    main(args.output_directory, args.output_file, args.input_file, args.scanpy_commands)"
   ]
  },
  {
   "cell_type": "markdown",
   "id": "d563344d-9353-40d1-be9f-dcbd2d6f9cff",
   "metadata": {},
   "source": [
    "This script requires 4 arguments to be passed:\n",
    "1. the location of the output directory, which through prompting we will set to be `state['output-directory']`,\n",
    "2. the name of the output file, which the LLM can choose,\n",
    "3. the name of the input file, which is important information the user must have, and\n",
    "4. a list of `scanpy` commands, which the LLM should select to respond to the users query\n",
    "\n",
    "### Docstrings and Prompting\n",
    "While writing a line of code to use this file does require LLM generated code, we can construct sufficiently detailed prompts with many examples to ensure the LLM will be successful. Below is the documentation for the script, which is used in the `pythonPromptTemplate` as input to prompt the LLM."
   ]
  },
  {
   "cell_type": "raw",
   "id": "efd78736-43e2-4a29-9f89-f9e0da8b0234",
   "metadata": {},
   "source": [
    "\"\"\"\n",
    "This script executes a series of scanpy commands on an AnnData object loaded from a .h5ad file and saves the resulting AnnData object back to disk. \n",
    "\n",
    "Arguments (four arguments):\n",
    "    1. output directory: chatstatus['output-directory']\n",
    "    2. output file: <name of output file>\n",
    "    3. input file: <file created in previous step>\n",
    "    4. scanpy commands: a list of scanpy commands to be executed on the AnnData object (provided as a single string with commands separated by a delimiter, e.g., ';')\n",
    "\n",
    "Based on the arguments, the input file will be loaded, then your commands will be executed, and finally, the output or resulting ann data object will be saved to the corrrectou output file and directory. Your code is not responsible for loading the .h5ad object, that will happen automatically, and when loaded, the object will be called adata. Your scanpy commands can operate directly on the adata object that will be loaded for you.\n",
    "\n",
    "Additionally, the following imports are already provided for you and can be used in your code:\n",
    "```\n",
    "import scanpy as sc\n",
    "import seaborn as sns\n",
    "import matplotlib.pyplot as plt\n",
    "import os\n",
    "```\n",
    "\n",
    "**Usage**\n",
    "BRAD Line:\n",
    "```\n",
    "subprocess.run([sys.executable, \"<path/to/script/>/scanpy_brad.py\", chatstatus['output-directory'], <output file>, <input file>, \"<scanpy commands>\"], capture_output=True, text=True)\n",
    "```\n",
    "\n",
    "**Examples**\n",
    "Use the below examples to help generate your code.\n",
    "\n",
    "*Example 1*\n",
    "User Prompt: Run scanpy preprocessing and UMAP visualization on XXX.h5ad and save the UMAP plot\n",
    "Response Code:\n",
    "```\n",
    "response = subprocess.run([sys.executable, \"<path/to/script/>/scanpy_brad.py\", chatstatus['output-directory'], \"XXX-modified.h5ad\", \"<path/to/data>/XXX.h5ad\", \"sc.pp.neighbors(adata); sc.tl.umap(adata); sc.pl.umap(adata, save='umap.png')\"], capture_output=True, text=True)\n",
    "```\n",
    "Explination: the adata object will be loaded in memory already. The command \"sc.pp.neighbors(adata)\" will preprocess the data, then the command \"sc.tl.umap(adata)\" will perform UMAP, and finally the command \"sc.pl.umap(adata, 'umap.png')\" will save the UMAP to a well named file.\n",
    "\n",
    "*Example 2*\n",
    "User Prompt: Perform PCA and clustering on the dataset YYY.h5ad and save the PCA plot\n",
    "Response Code:\n",
    "```\n",
    "response = subprocess.run([sys.executable, \"<path/to/script/>/scanpy_brad.py\", chatstatus['output-directory'], \"YYY-modified.h5ad\", \"<path/to/data>/YYY.h5ad\", \"sc.pp.pca(adata); sc.tl.leiden(adata); sc.pl.pca(adata, save='pca.png')\"], capture_output=True, text=True)\n",
    "```\n",
    "Explination: the adata object will be loaded in memory already. The command \"sc.pp.pca(adata)\" will preprocess the data, then the command \"sc.tl.leiden(adata)\" will perform the leiden algorithm, and finally the command \"sc.pl.pca(adata, save='pca.png')\" will save the PCA to a well named file.\n",
    "\n",
    "**OUTPUT FILE NAME INSTRUCTIONS**\n",
    "1. Output path should be chatstatus['output-directory']\n",
    "2. Output file name should be `<descriptive name>.h5ad`\n",
    "\"\"\""
   ]
  },
  {
   "cell_type": "markdown",
   "id": "f5f79cde-b573-44c6-9bb7-57611811dc4d",
   "metadata": {},
   "source": [
    "### Execution\n",
    "\n",
    "To execute this, we follow a similar format as done previously:"
   ]
  },
  {
   "cell_type": "code",
   "execution_count": 1,
   "id": "74043c99-9485-4c2b-8589-cae330acc840",
   "metadata": {},
   "outputs": [
    {
     "name": "stdin",
     "output_type": "stream",
     "text": [
      "Enter your Open AI API key:  ········\n"
     ]
    },
    {
     "name": "stdout",
     "output_type": "stream",
     "text": [
      "\n",
      "Would you like to use a database with BRAD [Y/N]?\n"
     ]
    },
    {
     "name": "stdin",
     "output_type": "stream",
     "text": [
      " N\n"
     ]
    },
    {
     "name": "stderr",
     "output_type": "stream",
     "text": [
      "\u001b[32m2024-11-21 20:49:51 INFO semantic_router.utils.logger local\u001b[0m\n"
     ]
    },
    {
     "name": "stdout",
     "output_type": "stream",
     "text": [
      "Welcome to BRAD! The output from this conversation will be saved to /home/jpic/BRAD-Examples/Scanpy/output/November 21, 2024 at 08:49:11 PM/log.json. How can I help?\n"
     ]
    }
   ],
   "source": [
    "from BRAD import agent\n",
    "\n",
    "bot = agent.Agent(\n",
    "    config='config-ex-2.json',\n",
    "    tools = ['CODE']\n",
    ")"
   ]
  },
  {
   "cell_type": "code",
   "execution_count": 2,
   "id": "68188045-baeb-4a49-86c2-b76daa515698",
   "metadata": {},
   "outputs": [
    {
     "name": "stderr",
     "output_type": "stream",
     "text": [
      "2024-11-21 20:49:55,888 - INFO - CODE\n",
      "2024-11-21 20:49:55,891 - INFO - CODER\n",
      "2024-11-21 20:49:55,895 - INFO - input_variables=['user_query'] template=\"You must select which code to run to help a user.\\n\\n**Available Scripts**\\nScript Name: scanpy-brad, \\t Description: This script executes a series of scanpy commands on an AnnData object loaded from a .h5ad file and saves the resulting AnnData object back to disk.\\n\\n\\n**User Query**\\n{user_query}\\n\\n**Task**\\nBased on the user's query, select the best script from the available scripts. Provide the script name and explain why it is the best match. If no script is good, replace script with None\\n\\n**Response Template**\\nSCRIPT: <selected script>\\nREASON: <reasoning why the script fits the user prompt>\\n\"\n",
      "2024-11-21 20:49:55,896 - INFO - FIRST LLM CALL\n"
     ]
    },
    {
     "name": "stdout",
     "output_type": "stream",
     "text": [
      "==================================================\n",
      "BRAD >> 1: \n"
     ]
    },
    {
     "name": "stderr",
     "output_type": "stream",
     "text": [
      "2024-11-21 20:49:57,276 - INFO - HTTP Request: POST https://api.openai.com/v1/chat/completions \"HTTP/1.1 200 OK\"\n",
      "2024-11-21 20:49:57,288 - INFO - SCRIPT: scanpy-brad\n",
      "REASON: The scanpy-brad script is the best match for the user's query because it specifically executes scanpy commands on an AnnData object loaded from a .h5ad file, which is exactly what the user needs to perform PCA on the data from TS_Liver.h5ad and save a visualization of the results.\n",
      "2024-11-21 20:49:57,290 - INFO - scriptPath=/home/jpic/BRAD-Examples/Scanpy/scripts/\n",
      "2024-11-21 20:49:57,291 - INFO - ALL SCRIPTS FOUND. BUILDING TEMPLATE\n",
      "2024-11-21 20:49:57,293 - INFO - input_variables=['history', 'input'] template='Current conversation:\\n{history}\\n\\n**PYTHON SCRIPT**\\nYou must run this python script:\\n/home/jpic/BRAD-Examples/Scanpy/scripts/scanpy-brad.py\\n\\n**PYTHON SCRIPT DOCUMENTATION**:\\nThis is the doc string of this python script:\\n\"\"\"\\nThis script executes a series of scanpy commands on an AnnData object loaded from a .h5ad file and saves the resulting AnnData object back to disk.\\n\\nArguments (four arguments):\\n    1. output directory: chatstatus[\\'output-directory\\']\\n    2. output file: <name of output file>\\n    3. input file: <file created in previous step>\\n    4. scanpy commands: a list of scanpy commands to be executed on the AnnData object (provided as a single string with commands separated by a delimiter, e.g., \\';\\')\\n\\nBased on the arguments, the input file will be loaded, then your commands will be executed, and finally, the output or resulting ann data object will be saved to the corrrectou output file and directory. Your code is not responsible for loading the .h5ad object, that will happen automatically, and when loaded, the object will be called adata. Your scanpy commands can operate directly on the adata object that will be loaded for you.\\n\\nAdditionally, the following imports are already provided for you and can be used in your code:\\n```\\nimport scanpy as sc\\nimport seaborn as sns\\nimport matplotlib.pyplot as plt\\nimport os\\n```\\n\\n**Usage**\\nBRAD Line:\\n```\\nsubprocess.run([sys.executable, \"<path/to/script/>/scanpy_brad.py\", chatstatus[\\'output-directory\\'], <output file>, <input file>, \"<scanpy commands>\"], capture_output=True, text=True)\\n```\\n\\n**Examples**\\nUse the below examples to help generate your code.\\n\\n*Example 1*\\nUser Prompt: Run scanpy preprocessing and UMAP visualization on XXX.h5ad and save the UMAP plot\\nResponse Code:\\n```\\nresponse = subprocess.run([sys.executable, \"<path/to/script/>/scanpy_brad.py\", chatstatus[\\'output-directory\\'], \"XXX-modified.h5ad\", \"<path/to/data>/XXX.h5ad\", \"sc.pp.neighbors(adata); sc.tl.umap(adata); sc.pl.umap(adata, save=\\'umap.png\\')\"], capture_output=True, text=True)\\n```\\nExplination: the adata object will be loaded in memory already. The command \"sc.pp.neighbors(adata)\" will preprocess the data, then the command \"sc.tl.umap(adata)\" will perform UMAP, and finally the command \"sc.pl.umap(adata, \\'umap.png\\')\" will save the UMAP to a well named file.\\n\\n*Example 2*\\nUser Prompt: Perform PCA and clustering on the dataset YYY.h5ad and save the PCA plot\\nResponse Code:\\n```\\nresponse = subprocess.run([sys.executable, \"<path/to/script/>/scanpy_brad.py\", chatstatus[\\'output-directory\\'], \"YYY-modified.h5ad\", \"<path/to/data>/YYY.h5ad\", \"sc.pp.pca(adata); sc.tl.leiden(adata); sc.pl.pca(adata, save=\\'pca.png\\')\"], capture_output=True, text=True)\\n```\\nExplination: the adata object will be loaded in memory already. The command \"sc.pp.pca(adata)\" will preprocess the data, then the command \"sc.tl.leiden(adata)\" will perform the leiden algorithm, and finally the command \"sc.pl.pca(adata, save=\\'pca.png\\')\" will save the PCA to a well named file.\\n\\n**OUTPUT FILE NAME INSTRUCTIONS**\\n1. Output path should be chatstatus[\\'output-directory\\']\\n2. Output file name should be `<descriptive name>.h5ad`\\n\"\"\"\\n\\n\\n**CALL PYTHON SCRIPTS FROM PYTHON**:\\nUse the `subprocess` module to call any Python script from another Python script. Here are some examples to call a few common Python scripts:\\n\\nTo call a Python script `example_script.py` which has no arguments:\\n\\n```\\nExecute: subprocess.run([sys.executable, \\'<full path to script/> example_script.py\\', chatstatus[\\'output-directory\\']], capture_output=True, text=True)\\n```\\n\\nTo call a Python script `example_script.py` with one argument:\\n\\n```\\nExecute: subprocess.run([sys.executable, \\'<full path to script/> example_script.py\\', chatstatus[\\'output-directory\\'], \\'arg1\\'], capture_output=True, text=True)\\n```\\n\\nTo call a Python script `example_script.py` with two arguments:\\n```\\nExecute: subprocess.run([sys.executable, \\'<full path to script/> example_script.py\\', chatstatus[\\'output-directory\\'], \\'arg1\\', \\'arg2\\'], capture_output=True, text=True)\\n```\\n\\nNote that chatstatus[\\'output-directory\\'] is ALWAYS passed as the first argument.\\n\\nThe following files were previously created by BRAD and could be used as input to a function if necessary:\\nlog.json\\n\\nQuery:{input}\\n\\n**PYTHON SCRIPT**\\nPlease use the correct script name and path. You must run this python script:\\n/home/jpic/BRAD-Examples/Scanpy/scripts/scanpy-brad.py\\n\\n**INSTRUCTIONS**\\n1. Given the user query and the documentation, identify each of the arguments found in the user\\'s query that should be passed to the Python script.\\n2. Using the `subprocess` module, provide the one line of code to execute the desired Python script with the given arguments. Assume the necessary modules (`subprocess` and `sys`) are already imported.\\n3. The last line of your response should say \"Execute: <Python code to execute>\"\\n4. Do not include any extra words or characters. Format the response/output as:\\n    Arguments: \\n    Python Code Explanation: <2 sentences maximum>\\n    Execute: <your code here>\\n\\n**IMPORTANT**\\nThe code to execute from your response must be formatted as:\\n    Execute: subprocess.call([sys.executable, \\'<path to python script>\\', \\'<argument 1>\\', \\'<argument 2>\\', ..., \\'<argument n>\\'], capture_output=True, text=True))\\nThis output should be exactly one line and no longer. Stop the response after this line.\\n'\n",
      "/home/jpic/.local/lib/python3.11/site-packages/langchain_core/runnables/base.py:2873: RuntimeWarning: coroutine 'ConversationBufferMemory.abuffer' was never awaited\n",
      "  input = step.invoke(input, config, **kwargs)\n",
      "RuntimeWarning: Enable tracemalloc to get the object allocation traceback\n",
      "2024-11-21 20:50:00,242 - INFO - HTTP Request: POST https://api.openai.com/v1/chat/completions \"HTTP/1.1 200 OK\"\n"
     ]
    },
    {
     "name": "stdout",
     "output_type": "stream",
     "text": [
      "\n",
      "\n",
      "\u001b[1m> Entering new ConversationChain chain...\u001b[0m\n",
      "Prompt after formatting:\n",
      "\u001b[32;1m\u001b[1;3mCurrent conversation:\n",
      "\n",
      "\n",
      "**PYTHON SCRIPT**\n",
      "You must run this python script:\n",
      "/home/jpic/BRAD-Examples/Scanpy/scripts/scanpy-brad.py\n",
      "\n",
      "**PYTHON SCRIPT DOCUMENTATION**:\n",
      "This is the doc string of this python script:\n",
      "\"\"\"\n",
      "This script executes a series of scanpy commands on an AnnData object loaded from a .h5ad file and saves the resulting AnnData object back to disk.\n",
      "\n",
      "Arguments (four arguments):\n",
      "    1. output directory: chatstatus['output-directory']\n",
      "    2. output file: <name of output file>\n",
      "    3. input file: <file created in previous step>\n",
      "    4. scanpy commands: a list of scanpy commands to be executed on the AnnData object (provided as a single string with commands separated by a delimiter, e.g., ';')\n",
      "\n",
      "Based on the arguments, the input file will be loaded, then your commands will be executed, and finally, the output or resulting ann data object will be saved to the corrrectou output file and directory. Your code is not responsible for loading the .h5ad object, that will happen automatically, and when loaded, the object will be called adata. Your scanpy commands can operate directly on the adata object that will be loaded for you.\n",
      "\n",
      "Additionally, the following imports are already provided for you and can be used in your code:\n",
      "```\n",
      "import scanpy as sc\n",
      "import seaborn as sns\n",
      "import matplotlib.pyplot as plt\n",
      "import os\n",
      "```\n",
      "\n",
      "**Usage**\n",
      "BRAD Line:\n",
      "```\n",
      "subprocess.run([sys.executable, \"<path/to/script/>/scanpy_brad.py\", chatstatus['output-directory'], <output file>, <input file>, \"<scanpy commands>\"], capture_output=True, text=True)\n",
      "```\n",
      "\n",
      "**Examples**\n",
      "Use the below examples to help generate your code.\n",
      "\n",
      "*Example 1*\n",
      "User Prompt: Run scanpy preprocessing and UMAP visualization on XXX.h5ad and save the UMAP plot\n",
      "Response Code:\n",
      "```\n",
      "response = subprocess.run([sys.executable, \"<path/to/script/>/scanpy_brad.py\", chatstatus['output-directory'], \"XXX-modified.h5ad\", \"<path/to/data>/XXX.h5ad\", \"sc.pp.neighbors(adata); sc.tl.umap(adata); sc.pl.umap(adata, save='umap.png')\"], capture_output=True, text=True)\n",
      "```\n",
      "Explination: the adata object will be loaded in memory already. The command \"sc.pp.neighbors(adata)\" will preprocess the data, then the command \"sc.tl.umap(adata)\" will perform UMAP, and finally the command \"sc.pl.umap(adata, 'umap.png')\" will save the UMAP to a well named file.\n",
      "\n",
      "*Example 2*\n",
      "User Prompt: Perform PCA and clustering on the dataset YYY.h5ad and save the PCA plot\n",
      "Response Code:\n",
      "```\n",
      "response = subprocess.run([sys.executable, \"<path/to/script/>/scanpy_brad.py\", chatstatus['output-directory'], \"YYY-modified.h5ad\", \"<path/to/data>/YYY.h5ad\", \"sc.pp.pca(adata); sc.tl.leiden(adata); sc.pl.pca(adata, save='pca.png')\"], capture_output=True, text=True)\n",
      "```\n",
      "Explination: the adata object will be loaded in memory already. The command \"sc.pp.pca(adata)\" will preprocess the data, then the command \"sc.tl.leiden(adata)\" will perform the leiden algorithm, and finally the command \"sc.pl.pca(adata, save='pca.png')\" will save the PCA to a well named file.\n",
      "\n",
      "**OUTPUT FILE NAME INSTRUCTIONS**\n",
      "1. Output path should be chatstatus['output-directory']\n",
      "2. Output file name should be `<descriptive name>.h5ad`\n",
      "\"\"\"\n",
      "\n",
      "\n",
      "**CALL PYTHON SCRIPTS FROM PYTHON**:\n",
      "Use the `subprocess` module to call any Python script from another Python script. Here are some examples to call a few common Python scripts:\n",
      "\n",
      "To call a Python script `example_script.py` which has no arguments:\n",
      "\n",
      "```\n",
      "Execute: subprocess.run([sys.executable, '<full path to script/> example_script.py', chatstatus['output-directory']], capture_output=True, text=True)\n",
      "```\n",
      "\n",
      "To call a Python script `example_script.py` with one argument:\n",
      "\n",
      "```\n",
      "Execute: subprocess.run([sys.executable, '<full path to script/> example_script.py', chatstatus['output-directory'], 'arg1'], capture_output=True, text=True)\n",
      "```\n",
      "\n",
      "To call a Python script `example_script.py` with two arguments:\n",
      "```\n",
      "Execute: subprocess.run([sys.executable, '<full path to script/> example_script.py', chatstatus['output-directory'], 'arg1', 'arg2'], capture_output=True, text=True)\n",
      "```\n",
      "\n",
      "Note that chatstatus['output-directory'] is ALWAYS passed as the first argument.\n",
      "\n",
      "The following files were previously created by BRAD and could be used as input to a function if necessary:\n",
      "log.json\n",
      "\n",
      "Query:Using the data from /nfs/turbo/umms-indikar/shared/projects/DGC/data/tabula_sapiens/extract/TS_Liver.h5ad, perform a PCA and save a visualization of the results.\n",
      "\n",
      "**PYTHON SCRIPT**\n",
      "Please use the correct script name and path. You must run this python script:\n",
      "/home/jpic/BRAD-Examples/Scanpy/scripts/scanpy-brad.py\n",
      "\n",
      "**INSTRUCTIONS**\n",
      "1. Given the user query and the documentation, identify each of the arguments found in the user's query that should be passed to the Python script.\n",
      "2. Using the `subprocess` module, provide the one line of code to execute the desired Python script with the given arguments. Assume the necessary modules (`subprocess` and `sys`) are already imported.\n",
      "3. The last line of your response should say \"Execute: <Python code to execute>\"\n",
      "4. Do not include any extra words or characters. Format the response/output as:\n",
      "    Arguments: \n",
      "    Python Code Explanation: <2 sentences maximum>\n",
      "    Execute: <your code here>\n",
      "\n",
      "**IMPORTANT**\n",
      "The code to execute from your response must be formatted as:\n",
      "    Execute: subprocess.call([sys.executable, '<path to python script>', '<argument 1>', '<argument 2>', ..., '<argument n>'], capture_output=True, text=True))\n",
      "This output should be exactly one line and no longer. Stop the response after this line.\n",
      "\u001b[0m\n"
     ]
    },
    {
     "name": "stderr",
     "output_type": "stream",
     "text": [
      "2024-11-21 20:50:02,682 - INFO - HTTP Request: POST https://api.openai.com/v1/chat/completions \"HTTP/1.1 200 OK\"\n",
      "2024-11-21 20:50:02,684 - INFO - LLM OUTPUT PARSER\n",
      "2024-11-21 20:50:02,685 - INFO - Arguments:\n",
      "1. Output directory: chatstatus['output-directory']\n",
      "2. Output file: \"PCA_results.h5ad\"\n",
      "3. Input file: \"/nfs/turbo/umms-indikar/shared/projects/DGC/data/tabula_sapiens/extract/TS_Liver.h5ad\"\n",
      "4. Scanpy commands: \"sc.pp.pca(adata); sc.pl.pca(adata, save='pca_results.png')\"\n",
      "\n",
      "Python Code Explanation: The provided arguments include the output directory, output file name, input file path, and the scanpy commands to perform PCA and save the visualization. \n",
      "\n",
      "Execute: subprocess.call([sys.executable, '/home/jpic/BRAD-Examples/Scanpy/scripts/scanpy-brad.py', chatstatus['output-directory'], \"PCA_results.h5ad\", \"/nfs/turbo/umms-indikar/shared/projects/DGC/data/tabula_sapiens/extract/TS_Liver.h5ad\", \"sc.pp.pca(adata); sc.pl.pca(adata, save='pca_results.png')\"], capture_output=True, text=True)\n",
      "2024-11-21 20:50:02,685 - INFO - ['Arguments:\\n1. Output directory: chatstatus[\\'output-directory\\']\\n2. Output file: \"PCA_results.h5ad\"\\n3. Input file: \"/nfs/turbo/umms-indikar/shared/projects/DGC/data/tabula_sapiens/extract/TS_Liver.h5ad\"\\n4. Scanpy commands: \"sc.pp.pca(adata); sc.pl.pca(adata, save=\\'pca_results.png\\')\"\\n\\nPython Code Explanation: The provided arguments include the output directory, output file name, input file path, and the scanpy commands to perform PCA and save the visualization. \\n\\n', ' subprocess.call([sys.executable, \\'/home/jpic/BRAD-Examples/Scanpy/scripts/scanpy-brad.py\\', chatstatus[\\'output-directory\\'], \"PCA_results.h5ad\", \"/nfs/turbo/umms-indikar/shared/projects/DGC/data/tabula_sapiens/extract/TS_Liver.h5ad\", \"sc.pp.pca(adata); sc.pl.pca(adata, save=\\'pca_results.png\\')\"], capture_output=True, text=True)']\n",
      "2024-11-21 20:50:02,685 - INFO - Stripped funciton call\n",
      "2024-11-21 20:50:02,686 - INFO - subprocess.call([sys.executable, '/home/jpic/BRAD-Examples/Scanpy/scripts/scanpy-brad.py', chatstatus['output-directory'], \"PCA_results.h5ad\", \"/nfs/turbo/umms-indikar/shared/projects/DGC/data/tabula_sapiens/extract/TS_Liver.h5ad\", \"sc.pp.pca(adata); sc.pl.pca(adata, save='pca_results.png')\"], capture_output=True, text=True)\n",
      "2024-11-21 20:50:02,686 - INFO - Cleaned up function call:\n",
      "\n",
      "2024-11-21 20:50:02,687 - INFO - subprocess.run([sys.executable, '/home/jpic/BRAD-Examples/Scanpy/scripts/scanpy-brad.py', chatstatus['output-directory'], \"PCA_results.h5ad\", \"/nfs/turbo/umms-indikar/shared/projects/DGC/data/tabula_sapiens/extract/TS_Liver.h5ad\", \"sc.pp.pca(adata); sc.pl.pca(adata, save='pca_results.png')\"], capture_output=True, text=True)\n",
      "2024-11-21 20:50:02,687 - INFO - \n",
      "\n",
      "2024-11-21 20:50:02,690 - INFO - EVAL\n",
      "2024-11-21 20:50:02,691 - INFO - subprocess.run([sys.executable, '/home/jpic/BRAD-Examples/Scanpy/scripts/scanpy-brad.py', chatstatus['output-directory'], \"PCA_results.h5ad\", \"/nfs/turbo/umms-indikar/shared/projects/DGC/data/tabula_sapiens/extract/TS_Liver.h5ad\", \"sc.pp.pca(adata); sc.pl.pca(adata, save='pca_results.png')\"], capture_output=True, text=True)\n",
      "2024-11-21 20:50:02,691 - INFO - END EVAL CHECK\n",
      "2024-11-21 20:50:02,692 - INFO - PYTHON CODE OUTPUT DIRECTORY CHANGED\n",
      "2024-11-21 20:50:02,692 - INFO - subprocess.run([sys.executable, '/home/jpic/BRAD-Examples/Scanpy/scripts/scanpy-brad.py', state['output-directory'], \"PCA_results.h5ad\", \"/nfs/turbo/umms-indikar/shared/projects/DGC/data/tabula_sapiens/extract/TS_Liver.h5ad\", \"sc.pp.pca(adata); sc.pl.pca(adata, save='pca_results.png')\"], capture_output=True, text=True)\n",
      "2024-11-21 20:50:02,692 - INFO - Finalized PYTHON Call:\n",
      "2024-11-21 20:50:02,693 - INFO -    \n",
      "2024-11-21 20:50:02,693 - INFO - response = subprocess.run([sys.executable, '/home/jpic/BRAD-Examples/Scanpy/scripts/scanpy-brad.py', state['output-directory'], \"PCA_results.h5ad\", \"/nfs/turbo/umms-indikar/shared/projects/DGC/data/tabula_sapiens/extract/TS_Liver.h5ad\", \"sc.pp.pca(adata); sc.pl.pca(adata, save='pca_results.png')\"], capture_output=True, text=True)\n",
      "2024-11-21 20:50:02,694 - INFO -    \n"
     ]
    },
    {
     "name": "stdout",
     "output_type": "stream",
     "text": [
      "\n",
      "\u001b[1m> Finished chain.\u001b[0m\n"
     ]
    },
    {
     "name": "stderr",
     "output_type": "stream",
     "text": [
      "2024-11-21 20:50:38,826 - INFO - Debug: PYTHON code executed successfully.\n",
      "2024-11-21 20:50:38,828 - INFO - Code Execution Output:\n",
      "2024-11-21 20:50:38,828 - INFO - CompletedProcess(args=['/sw/pkgs/arc/python3.11-anaconda/2024.02-1/bin/python', '/home/jpic/BRAD-Examples/Scanpy/scripts/scanpy-brad.py', '/home/jpic/BRAD-Examples/Scanpy/output/November 21, 2024 at 08:49:11 PM', 'PCA_results.h5ad', '/nfs/turbo/umms-indikar/shared/projects/DGC/data/tabula_sapiens/extract/TS_Liver.h5ad', \"sc.pp.pca(adata); sc.pl.pca(adata, save='pca_results.png')\"], returncode=0, stdout=\"adata loaded from /nfs/turbo/umms-indikar/shared/projects/DGC/data/tabula_sapiens/extract/TS_Liver.h5ad\\nadata.shape=(5007, 58870)\\nadata.obs.columns=Index(['organ_tissue', 'method', 'donor', 'anatomical_information',\\n       'n_counts_UMIs', 'n_genes', 'cell_ontology_class', 'free_annotation',\\n       'manually_annotated', 'compartment', 'gender'],\\n      dtype='object')\\nadata.obs.head()=                                       organ_tissue method  ...  compartment gender\\ncell_id                                                     ...                    \\nAAACCCACACTCCTGT_TSP6_Liver_NA_10X_1_1        Liver    10X  ...       immune   male\\nAAACGAAGTACCAGAG_TSP6_Liver_NA_10X_1_1        Liver    10X  ...       immune   male\\nAAACGCTCAACGGCTC_TSP6_Liver_NA_10X_1_1        Liver    10X  ...  endothelial   male\\nAAAGAACAGCCTCTTC_TSP6_Liver_NA_10X_1_1        Liver    10X  ...       immune   male\\nAAAGAACGTAGCACAG_TSP6_Liver_NA_10X_1_1        Liver    10X  ...       immune   male\\n\\n[5 rows x 11 columns]\\nadata.var.head()=             gene_symbol     feature_type  ...      mean       std\\nDDX11L1          DDX11L1  Gene Expression  ...  0.000039  0.005574\\nWASH7P            WASH7P  Gene Expression  ...  0.001080  0.031731\\nMIR6859-1      MIR6859-1  Gene Expression  ...  0.000033  0.005634\\nMIR1302-2HG  MIR1302-2HG  Gene Expression  ...  0.000048  0.008041\\nMIR1302-2      MIR1302-2  Gene Expression  ...  0.000000  1.000000\\n\\n[5 rows x 9 columns]\\n****************************\\n      EXECUTE COMMANDS      \\n****************************\\nsc.pp.pca(adata)\\nsc.pl.pca(adata, save='pca_results.png')\\nFigure(1200x1200)\\n\", stderr='WARNING: saving figure to file /home/jpic/BRAD-Examples/Scanpy/output/November 21, 2024 at 08:49:11 PM/pcapca_results.png\\n')\n",
      "2024-11-21 20:50:38,829 - INFO - Debug: PYTHON code output saved to output.\n",
      "2024-11-21 20:50:38,830 - INFO - \n",
      "\n",
      "\n",
      "route\n",
      "\n",
      "\n",
      "\n",
      "2024-11-21 20:50:38,830 - INFO - CODE\n"
     ]
    }
   ],
   "source": [
    "response = bot.invoke('/force CODE Using the data from /nfs/turbo/umms-indikar/shared/projects/DGC/data/tabula_sapiens/extract/TS_Liver.h5ad, perform a PCA and save a visualization of the results.')\n"
   ]
  },
  {
   "cell_type": "markdown",
   "id": "18cf6bcc-ed0b-408e-b682-eed07039125e",
   "metadata": {},
   "source": [
    "When functioning correctly, the above commands will generate a PCA plot in the `Agent`'s output directory.\n",
    "\n",
    "We say \"when functioning correctly\" because, as is often the case with code, both computers and humans introduce bugs that can lead to unexpected behavior. This prototyped module demonstrates the straightforward execution of small commands. However, despite the utility of RAG, LLMs are not yet capable of fully automating complex data analysis. The real strength of LLMs in automatic code execution lies in their ability to quickly write simple code—often producing errors or bugs that humans can identify and fix—rather than their ability to generate original, error-free analysis.\n",
    "\n",
    "In the next section, we will demonstrate how to use the `CODE` tool sequentially to execute larger bioinformatics pipelines.\n",
    "\n"
   ]
  }
 ],
 "metadata": {
  "kernelspec": {
   "display_name": "Python 3 (ipykernel)",
   "language": "python",
   "name": "python3"
  },
  "language_info": {
   "codemirror_mode": {
    "name": "ipython",
    "version": 3
   },
   "file_extension": ".py",
   "mimetype": "text/x-python",
   "name": "python",
   "nbconvert_exporter": "python",
   "pygments_lexer": "ipython3",
   "version": "3.11.7"
  }
 },
 "nbformat": 4,
 "nbformat_minor": 5
}
