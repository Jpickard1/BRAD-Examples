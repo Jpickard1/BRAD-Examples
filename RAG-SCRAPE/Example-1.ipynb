{
 "cells": [
  {
   "cell_type": "markdown",
   "id": "6cefdaa0-2ed5-4eb9-a924-ff4395b89a3e",
   "metadata": {},
   "source": [
    "# Building a RAG Database with BRAD"
   ]
  },
  {
   "cell_type": "code",
   "execution_count": 1,
   "id": "2f812f82-9db2-4cf4-af8b-cb7f1e9600ce",
   "metadata": {},
   "outputs": [
    {
     "name": "stderr",
     "output_type": "stream",
     "text": [
      "2024-11-21 12:57:31.279295: E external/local_xla/xla/stream_executor/cuda/cuda_fft.cc:485] Unable to register cuFFT factory: Attempting to register factory for plugin cuFFT when one has already been registered\n",
      "2024-11-21 12:57:31.297192: E external/local_xla/xla/stream_executor/cuda/cuda_dnn.cc:8454] Unable to register cuDNN factory: Attempting to register factory for plugin cuDNN when one has already been registered\n",
      "2024-11-21 12:57:31.302637: E external/local_xla/xla/stream_executor/cuda/cuda_blas.cc:1452] Unable to register cuBLAS factory: Attempting to register factory for plugin cuBLAS when one has already been registered\n",
      "2024-11-21 12:57:31.316573: I tensorflow/core/platform/cpu_feature_guard.cc:210] This TensorFlow binary is optimized to use available CPU instructions in performance-critical operations.\n",
      "To enable the following instructions: AVX2 AVX512F FMA, in other operations, rebuild TensorFlow with the appropriate compiler flags.\n",
      "2024-11-21 12:57:38.951699: W tensorflow/compiler/tf2tensorrt/utils/py_utils.cc:38] TF-TRT Warning: Could not find TensorRT\n"
     ]
    }
   ],
   "source": [
    "from BRAD import agent"
   ]
  },
  {
   "cell_type": "markdown",
   "id": "0a9d0215-0582-4fa6-acb9-eec8bc8ebc77",
   "metadata": {},
   "source": [
    "## Searching Arxiv"
   ]
  },
  {
   "cell_type": "code",
   "execution_count": 2,
   "id": "9e4bfe46-c71c-47dc-a0e1-fc521ad82b96",
   "metadata": {},
   "outputs": [
    {
     "name": "stdin",
     "output_type": "stream",
     "text": [
      "Enter your Open AI API key:  ········\n"
     ]
    },
    {
     "name": "stdout",
     "output_type": "stream",
     "text": [
      "\n",
      "Would you like to use a database with BRAD [Y/N]?\n"
     ]
    },
    {
     "name": "stdin",
     "output_type": "stream",
     "text": [
      " N\n"
     ]
    },
    {
     "name": "stderr",
     "output_type": "stream",
     "text": [
      "\u001b[32m2024-11-21 12:57:59 INFO semantic_router.utils.logger local\u001b[0m\n"
     ]
    },
    {
     "name": "stdout",
     "output_type": "stream",
     "text": [
      "Welcome to RAG! The chat log from this conversation will be saved to /home/jpic/BRAD-Examples/RAG-SCRAPE/output/November 21, 2024 at 12:57:40 PM/log.json. How can I help?\n",
      "==================================================\n"
     ]
    },
    {
     "name": "stdin",
     "output_type": "stream",
     "text": [
      "Input >>  /force SCRAPE search arxiv for single cell foundation models\n"
     ]
    },
    {
     "name": "stderr",
     "output_type": "stream",
     "text": [
      "2024-11-21 12:58:13,597 - INFO - SCRAPE\n"
     ]
    },
    {
     "name": "stdout",
     "output_type": "stream",
     "text": [
      "==================================================\n",
      "BRAD >> 1: \n",
      "\n",
      "\n",
      "\u001b[1m> Entering new ConversationChain chain...\u001b[0m\n",
      "Prompt after formatting:\n",
      "\u001b[32;1m\u001b[1;3mCurrent conversation:\n",
      "\n",
      "\n",
      "Query:search arxiv for single cell foundation models\n",
      "\n",
      "From the query, decide if ARXIV, PUBMED, or BIORXIV should be searched, and propose at least 10 search terms for this query and database. Separate each term with a comma, and provide no extra information/explination for either the database or search terms. Do not include general purpose search terms such as \"recent advances\", \"novel\", \"current research\", \"latest trends\", \"theoretical foundations\", or other general query terms. Also, do not use very general fields as serch terms such as: \"dynamical systems\", \"machine learning\", or \"single cell\". It is correct to use these terms with modifications to be more specific, so that \"biological dynamical systems\", \"machine learning for genomics\", or \"single cell clustering\" would be good terms to search.\n",
      "\n",
      "The following search terms have been previously uses and identical terms should be avoided in this search: []\n",
      "\n",
      "**Format your output as follows. Do not include any addition information:**\n",
      "Database: <ARXIV, PUBMED, or BIORXIV>\n",
      "Search Terms: <improved search terms>\n",
      "\u001b[0m\n"
     ]
    },
    {
     "name": "stderr",
     "output_type": "stream",
     "text": [
      "2024-11-21 12:58:14,942 - INFO - HTTP Request: POST https://api.openai.com/v1/chat/completions \"HTTP/1.1 200 OK\"\n",
      "2024-11-21 12:58:14,952 - INFO - {'database': 'ARXIV', 'search_terms': ['single cell gene regulatory networks', 'single cell spatial modeling', 'single cell trajectory inference', 'single cell gene expression variability', 'single cell signaling pathways', 'single cell epigenetic regulation', 'single cell metabolic modeling', 'single cell protein interaction networks', 'single cell regulatory network inference', 'single cell multi-omics integration']}\n",
      "2024-11-21 12:58:14,953 - INFO - searching on ARXIV...\n",
      "2024-11-21 12:58:14,954 - INFO - Search Terms: ['single cell gene regulatory networks', 'single cell spatial modeling', 'single cell trajectory inference', 'single cell gene expression variability', 'single cell signaling pathways', 'single cell epigenetic regulation', 'single cell metabolic modeling', 'single cell protein interaction networks', 'single cell regulatory network inference', 'single cell multi-omics integration']\n",
      "2024-11-21 12:58:14,955 - INFO - https://arxiv.org/search/?searchtype=all&query=single+cell+gene+regulatory+networks&abstracts=show&size=50&order=\n",
      "2024-11-21 12:58:14,956 - INFO - Directory '/home/jpic/BRAD-Examples/RAG-SCRAPE/arxiv' created successfully\n"
     ]
    },
    {
     "name": "stdout",
     "output_type": "stream",
     "text": [
      "\n",
      "\u001b[1m> Finished chain.\u001b[0m\n",
      "searching the following on arxiv: single cell gene regulatory networks\n"
     ]
    },
    {
     "data": {
      "text/html": [
       "<div>\n",
       "<style scoped>\n",
       "    .dataframe tbody tr th:only-of-type {\n",
       "        vertical-align: middle;\n",
       "    }\n",
       "\n",
       "    .dataframe tbody tr th {\n",
       "        vertical-align: top;\n",
       "    }\n",
       "\n",
       "    .dataframe thead th {\n",
       "        text-align: right;\n",
       "    }\n",
       "</style>\n",
       "<table border=\"1\" class=\"dataframe\">\n",
       "  <thead>\n",
       "    <tr style=\"text-align: right;\">\n",
       "      <th></th>\n",
       "      <th>Title</th>\n",
       "      <th>Authors</th>\n",
       "    </tr>\n",
       "  </thead>\n",
       "  <tbody>\n",
       "    <tr>\n",
       "      <th>0</th>\n",
       "      <td>Recovering Time-VaryingNetworksFromSingle-Cell...</td>\n",
       "      <td>Euxhen Hasanaj,Barnabás Póczos,Ziv Bar-Joseph</td>\n",
       "    </tr>\n",
       "    <tr>\n",
       "      <th>1</th>\n",
       "      <td>LLM4GRN: Discovering CausalGeneRegulatoryNetwo...</td>\n",
       "      <td>Tejumade Afonja,Ivaxi Sheth,Ruta Binkyte,Waqar...</td>\n",
       "    </tr>\n",
       "    <tr>\n",
       "      <th>2</th>\n",
       "      <td>Identifying Drift, Diffusion, and Causal Struc...</td>\n",
       "      <td>Vincent Guan,Joseph Janssen,Hossein Rahmani,An...</td>\n",
       "    </tr>\n",
       "    <tr>\n",
       "      <th>3</th>\n",
       "      <td>Simultaneously InferCellPseudotime,Velocity Fi...</td>\n",
       "      <td>Zhen Zhou,Jiachen Li,Hongyi Xin,Xiaoyong Pan,H...</td>\n",
       "    </tr>\n",
       "    <tr>\n",
       "      <th>4</th>\n",
       "      <td>Dynamic landscapes and statistical limits on g...</td>\n",
       "      <td>Gautam Reddy</td>\n",
       "    </tr>\n",
       "    <tr>\n",
       "      <th>5</th>\n",
       "      <td>DecipheringCellSystems: Machine Learning Persp...</td>\n",
       "      <td>Yongjian Yang</td>\n",
       "    </tr>\n",
       "    <tr>\n",
       "      <th>6</th>\n",
       "      <td>Integrating Optimal Transport and Structural I...</td>\n",
       "      <td>Tsz Pan Tong,Aoran Wang,George Panagopoulos,Ju...</td>\n",
       "    </tr>\n",
       "    <tr>\n",
       "      <th>7</th>\n",
       "      <td>Transformer-basedSingle-CellLanguage Model: A ...</td>\n",
       "      <td>Wei Lan,Guohang He,Mingyang Liu,Qingfeng Chen,...</td>\n",
       "    </tr>\n",
       "    <tr>\n",
       "      <th>8</th>\n",
       "      <td>GeneRegulatoryNetworkInference from Pre-traine...</td>\n",
       "      <td>Sindhura Kommu,Yizhi Wang,Yue Wang,Xuan Wang</td>\n",
       "    </tr>\n",
       "    <tr>\n",
       "      <th>9</th>\n",
       "      <td>WENDY: Covariance Dynamics BasedGeneRegulatory...</td>\n",
       "      <td>Yue Wang,Peng Zheng,Yu-Chen Cheng,Zikun Wang,A...</td>\n",
       "    </tr>\n",
       "  </tbody>\n",
       "</table>\n",
       "</div>"
      ],
      "text/plain": [
       "                                               Title  \\\n",
       "0  Recovering Time-VaryingNetworksFromSingle-Cell...   \n",
       "1  LLM4GRN: Discovering CausalGeneRegulatoryNetwo...   \n",
       "2  Identifying Drift, Diffusion, and Causal Struc...   \n",
       "3  Simultaneously InferCellPseudotime,Velocity Fi...   \n",
       "4  Dynamic landscapes and statistical limits on g...   \n",
       "5  DecipheringCellSystems: Machine Learning Persp...   \n",
       "6  Integrating Optimal Transport and Structural I...   \n",
       "7  Transformer-basedSingle-CellLanguage Model: A ...   \n",
       "8  GeneRegulatoryNetworkInference from Pre-traine...   \n",
       "9  WENDY: Covariance Dynamics BasedGeneRegulatory...   \n",
       "\n",
       "                                             Authors  \n",
       "0      Euxhen Hasanaj,Barnabás Póczos,Ziv Bar-Joseph  \n",
       "1  Tejumade Afonja,Ivaxi Sheth,Ruta Binkyte,Waqar...  \n",
       "2  Vincent Guan,Joseph Janssen,Hossein Rahmani,An...  \n",
       "3  Zhen Zhou,Jiachen Li,Hongyi Xin,Xiaoyong Pan,H...  \n",
       "4                                       Gautam Reddy  \n",
       "5                                      Yongjian Yang  \n",
       "6  Tsz Pan Tong,Aoran Wang,George Panagopoulos,Ju...  \n",
       "7  Wei Lan,Guohang He,Mingyang Liu,Qingfeng Chen,...  \n",
       "8       Sindhura Kommu,Yizhi Wang,Yue Wang,Xuan Wang  \n",
       "9  Yue Wang,Peng Zheng,Yu-Chen Cheng,Zikun Wang,A...  "
      ]
     },
     "metadata": {},
     "output_type": "display_data"
    },
    {
     "name": "stderr",
     "output_type": "stream",
     "text": [
      "2024-11-21 12:58:15,569 - INFO - \n",
      "\n",
      "\n",
      "route\n",
      "\n",
      "\n",
      "\n",
      "2024-11-21 12:58:15,570 - INFO - SCRAPE\n",
      "2024-11-21 12:58:15,573 - INFO - current llm calls=1\n"
     ]
    },
    {
     "name": "stdout",
     "output_type": "stream",
     "text": [
      "\n",
      " Would you like to download these articles [Y/N]?\n",
      "==================================================\n"
     ]
    },
    {
     "name": "stdin",
     "output_type": "stream",
     "text": [
      "Input >>  Y\n"
     ]
    },
    {
     "name": "stderr",
     "output_type": "stream",
     "text": [
      "2024-11-21 12:58:22,132 - INFO - SCRAPE\n"
     ]
    },
    {
     "name": "stdout",
     "output_type": "stream",
     "text": [
      "==================================================\n",
      "BRAD >> 2: \n"
     ]
    },
    {
     "name": "stderr",
     "output_type": "stream",
     "text": [
      "2024-11-21 12:58:22,450 - INFO - Directory '/home/jpic/BRAD-Examples/RAG-SCRAPE/output/November 21, 2024 at 12:57:40 PM/pdf' created successfully\n",
      "2024-11-21 12:58:28,757 - INFO - \n",
      "\n",
      "\n",
      "route\n",
      "\n",
      "\n",
      "\n",
      "2024-11-21 12:58:28,759 - INFO - SCRAPE\n",
      "2024-11-21 12:58:28,763 - INFO - current llm calls=1\n"
     ]
    },
    {
     "name": "stdout",
     "output_type": "stream",
     "text": [
      "The following articles were downloaded:\n",
      "\n",
      "https://arxiv.org/pdf/2410.01853\n",
      "https://arxiv.org/pdf/2410.15828\n",
      "https://arxiv.org/pdf/2410.22729\n",
      "https://arxiv.org/pdf/2410.18394\n",
      "https://arxiv.org/pdf/2409.09548\n",
      "https://arxiv.org/pdf/2409.19482\n",
      "https://arxiv.org/pdf/2409.15080\n",
      "https://arxiv.org/pdf/2407.13205\n",
      "https://arxiv.org/pdf/2407.18181\n",
      "https://arxiv.org/pdf/2407.00754\n",
      "\n",
      "==================================================\n"
     ]
    },
    {
     "name": "stdin",
     "output_type": "stream",
     "text": [
      "Input >>  exit\n"
     ]
    },
    {
     "name": "stdout",
     "output_type": "stream",
     "text": [
      "Thanks for chatting today! I hope to talk soon, and don't forget that a record of this conversation is available at: /home/jpic/BRAD-Examples/RAG-SCRAPE/output/November 21, 2024 at 12:57:40 PM/log.json\n"
     ]
    }
   ],
   "source": [
    "bot = agent.Agent(\n",
    "        config='config-ex-1.json'\n",
    ").chat()"
   ]
  },
  {
   "cell_type": "markdown",
   "id": "80f653fb-1b62-4761-ac95-a2cb0ade80b4",
   "metadata": {},
   "source": [
    "## RAG"
   ]
  },
  {
   "cell_type": "markdown",
   "id": "318e5372-5674-4c89-8111-ccb4652ecfc5",
   "metadata": {},
   "source": [
    "### Create a Database"
   ]
  },
  {
   "cell_type": "code",
   "execution_count": 3,
   "id": "e71395f4-2e43-4e8e-8e25-92039568be0b",
   "metadata": {},
   "outputs": [],
   "source": [
    "from BRAD import rag"
   ]
  },
  {
   "cell_type": "code",
   "execution_count": 4,
   "id": "b1ba049b-48a9-4509-8d68-7833dff7cebc",
   "metadata": {},
   "outputs": [
    {
     "name": "stderr",
     "output_type": "stream",
     "text": [
      "/home/jpic/.local/lib/python3.11/site-packages/langchain_core/_api/deprecation.py:139: LangChainDeprecationWarning: The class `HuggingFaceEmbeddings` was deprecated in LangChain 0.2.2 and will be removed in 0.3.0. An updated version of the class exists in the langchain-huggingface package and should be used instead. To use it run `pip install -U langchain-huggingface` and import as `from langchain_huggingface import HuggingFaceEmbeddings`.\n",
      "  warn_deprecated(\n",
      "2024-11-21 12:58:44,592 - INFO - Use pytorch device_name: cpu\n",
      "2024-11-21 12:58:44,593 - INFO - Load pretrained SentenceTransformer: BAAI/bge-base-en-v1.5\n"
     ]
    },
    {
     "name": "stdout",
     "output_type": "stream",
     "text": [
      "\n",
      "Work Directory: /home/jpic/BRAD-Examples/RAG-SCRAPE\n"
     ]
    },
    {
     "name": "stderr",
     "output_type": "stream",
     "text": [
      "/home/jpic/.local/lib/python3.11/site-packages/huggingface_hub/file_download.py:1132: FutureWarning: `resume_download` is deprecated and will be removed in version 1.0.0. Downloads always resume when possible. If you want to force a new download, use `force_download=True`.\n",
      "  warnings.warn(\n"
     ]
    },
    {
     "name": "stdout",
     "output_type": "stream",
     "text": [
      "\n",
      "Documents loading from: 'str(docsPath)\n"
     ]
    },
    {
     "name": "stderr",
     "output_type": "stream",
     "text": [
      "100%|██████████| 1/1 [00:00<00:00,  5.10it/s]"
     ]
    },
    {
     "name": "stdout",
     "output_type": "stream",
     "text": [
      "\n",
      "Documents loaded...\n",
      "Documents split into chunks...\n",
      "Initializing Chroma Database...\n",
      "dbName reset\n"
     ]
    },
    {
     "name": "stderr",
     "output_type": "stream",
     "text": [
      "\n",
      "2024-11-21 12:58:45,595 - INFO - Anonymized telemetry enabled. See                     https://docs.trychroma.com/telemetry for more information.\n",
      "2024-11-21 12:58:45,743 - INFO - Collection tutorialDatabase is not created.\n"
     ]
    }
   ],
   "source": [
    "rag_database = rag.create_database(\n",
    "    docsPath='papers/',\n",
    "    dbName='tutorialDatabase',\n",
    "    dbPath='databases/',\n",
    "    v=True\n",
    ")"
   ]
  },
  {
   "cell_type": "code",
   "execution_count": 5,
   "id": "604e5fb5-3df1-437a-b276-b6c5b9b3166f",
   "metadata": {},
   "outputs": [
    {
     "name": "stderr",
     "output_type": "stream",
     "text": [
      "\u001b[32m2024-11-21 13:02:13 INFO semantic_router.utils.logger local\u001b[0m\n"
     ]
    },
    {
     "name": "stdout",
     "output_type": "stream",
     "text": [
      "Welcome to RAG! The chat log from this conversation will be saved to /home/jpic/BRAD-Examples/RAG-SCRAPE/output/November 21, 2024 at 01:02:13 PM/log.json. How can I help?\n"
     ]
    }
   ],
   "source": [
    "bot = agent.Agent(\n",
    "    ragvectordb=rag_database,\n",
    "    config='config-ex-1.json'\n",
    ")"
   ]
  },
  {
   "cell_type": "code",
   "execution_count": 6,
   "id": "74abb971-ff1d-4a83-947d-daa6f1a4fece",
   "metadata": {},
   "outputs": [
    {
     "name": "stdout",
     "output_type": "stream",
     "text": [
      "==================================================\n"
     ]
    },
    {
     "name": "stdin",
     "output_type": "stream",
     "text": [
      "Input >>  what is cellular reprogramming?\n"
     ]
    },
    {
     "name": "stderr",
     "output_type": "stream",
     "text": [
      "2024-11-21 13:02:27,924 - INFO - RAG\n"
     ]
    },
    {
     "name": "stdout",
     "output_type": "stream",
     "text": [
      "==================================================\n",
      "BRAD >> 1: \n",
      "\n",
      "\n",
      "\u001b[1m> Entering new StuffDocumentsChain chain...\u001b[0m\n",
      "\n",
      "\n",
      "\u001b[1m> Entering new LLMChain chain...\u001b[0m\n",
      "Prompt after formatting:\n",
      "\u001b[32;1m\u001b[1;3mSystem: Use the following pieces of context to answer the user's question. \n",
      "If you don't know the answer, just say that you don't know, don't try to make up an answer.\n",
      "----------------\n",
      "Source: Algorithm for cellular reprogramming.pdf\n",
      "Content: repro-\n",
      "gramming. Nevertheless, it seems natural to treat reprogram-\n",
      "ming as a problem in control theory, with the ﬁnal state being\n",
      "the desired reprogrammed cell. In this paper, we provide such a\n",
      "framework based on empirical data and demonstrate the poten-tial of this framework to provide insights into cellular repro-\n",
      "gramming (4).\n",
      "Our goal is to mathematically identify TFs that can directly\n",
      "reprogram human ﬁbroblasts into a desired target cell type. As\n",
      "part of our methodology, we create a model for the natural\n",
      "dynamics of proliferating human ﬁbroblasts, using time series\n",
      "data collected throughout the cell cycle. We couple data from\n",
      "bioinformatics with methods of mathematical control\n",
      "\n",
      "Source: Algorithm for cellular reprogramming.pdf\n",
      "Content: Algorithm for cellular reprogramming\n",
      "Scott Ronquista, Geoff Pattersonb, Lindsey A. Muirc, Stephen Lindslya, Haiming Chena, Markus Brownd, Max S. Wichae,\n",
      "Anthony Blochf, Roger Brockettg, and Indika Rajapaksea,f,1\n",
      "aDepartment of Computational Medicine and Bioinformatics, Medical School, University of Michigan, Ann Arbor, MI 48109;bDepartment of Curriculum\n",
      "Design, IXL Learning, Raleigh, NC 27560;cDepartment of Pediatrics and Communicable Diseases, University of Michigan, Ann Arbor, MI 48109;\n",
      "dDepartment of Biological Sciences, University of Maryland, College Park, MD 20742;eDepartment of Hematology/Oncology, University of Michigan, Ann\n",
      "Arbor, MI 48109;fDepartment of Mathematics, University of\n",
      "\n",
      "Source: Algorithm for cellular reprogramming.pdf\n",
      "Content: improving strategies for control over biological processes.\n",
      "cellular reprogramming |control theory |time series data |\n",
      "genome architecture |networks\n",
      "In 1989, pioneering work by Weintraub et al. (1) success-\n",
      "fully reprogrammed human ﬁbroblasts into muscle cells via\n",
      "overexpression of transcription factor (TF) MYOD1, becoming\n",
      "the ﬁrst study to demonstrate that the natural course of cell\n",
      "development could be altered. In 2007, Yamanaka and cowork-\n",
      "ers (2) changed the paradigm further by successfully repro-\n",
      "gramming human ﬁbroblasts into an embryonic stem-cell–like\n",
      "state [induced pluripotent stem cells (iPSCs)], using four TFs:\n",
      "POU5F1, SOX2, KLF4, and MYC. This work showed that a dif-\n",
      "ferentiated\n",
      "Human: what is cellular reprogramming?\u001b[0m\n"
     ]
    },
    {
     "name": "stderr",
     "output_type": "stream",
     "text": [
      "/home/jpic/.local/lib/python3.11/site-packages/langchain_core/_api/deprecation.py:139: LangChainDeprecationWarning: The method `Chain.__call__` was deprecated in langchain 0.1.0 and will be removed in 0.3.0. Use invoke instead.\n",
      "  warn_deprecated(\n",
      "2024-11-21 13:02:29,283 - INFO - HTTP Request: POST https://api.openai.com/v1/chat/completions \"HTTP/1.1 200 OK\"\n",
      "2024-11-21 13:02:29,287 - INFO - \n",
      "\n",
      "\n",
      "route\n",
      "\n",
      "\n",
      "\n",
      "2024-11-21 13:02:29,288 - INFO - RAG\n",
      "2024-11-21 13:02:29,294 - INFO - current llm calls=1\n"
     ]
    },
    {
     "name": "stdout",
     "output_type": "stream",
     "text": [
      "\n",
      "\u001b[1m> Finished chain.\u001b[0m\n",
      "\n",
      "\u001b[1m> Finished chain.\u001b[0m\n",
      "Cellular reprogramming is the process of changing the identity or characteristics of a cell from one type to another. This can involve altering the gene expression patterns of a cell to convert it into a different cell type. It is often achieved through the introduction of specific transcription factors that can induce the desired changes in the cell's behavior and function.\n",
      "Sources:\n",
      "Algorithm for cellular reprogramming.pdf\n",
      "==================================================\n"
     ]
    },
    {
     "name": "stdin",
     "output_type": "stream",
     "text": [
      "Input >>  exit\n"
     ]
    },
    {
     "name": "stdout",
     "output_type": "stream",
     "text": [
      "Thanks for chatting today! I hope to talk soon, and don't forget that a record of this conversation is available at: /home/jpic/BRAD-Examples/RAG-SCRAPE/output/November 21, 2024 at 01:02:13 PM/log.json\n"
     ]
    }
   ],
   "source": [
    "bot.chat()"
   ]
  }
 ],
 "metadata": {
  "kernelspec": {
   "display_name": "Python 3 (ipykernel)",
   "language": "python",
   "name": "python3"
  },
  "language_info": {
   "codemirror_mode": {
    "name": "ipython",
    "version": 3
   },
   "file_extension": ".py",
   "mimetype": "text/x-python",
   "name": "python",
   "nbconvert_exporter": "python",
   "pygments_lexer": "ipython3",
   "version": "3.11.7"
  }
 },
 "nbformat": 4,
 "nbformat_minor": 5
}
