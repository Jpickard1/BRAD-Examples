{
 "cells": [
  {
   "cell_type": "markdown",
   "id": "f44454be-36db-454d-9442-0c6134aee0c4",
   "metadata": {},
   "source": [
    "# EX3. Biomarker Identification with BRAD\n",
    "\n",
    "In this example, we leverage previously developed methods and the `CODE` module to perform biomarker selection efficiently and effectively.\n",
    "\n",
    "\n",
    "## Biomarker Identification Pipeline\n",
    "\n",
    "1. **Collect Data**  \n",
    "   Gather and organize time-series data for the system under study.\n",
    "\n",
    "2. **Model Data**  \n",
    "   Build a dynamics model to describe the system's behavior over time.\n",
    "\n",
    "3. **Observability Analysis**  \n",
    "   Identify biomarkers that maximize the system's observability.\n",
    "\n",
    "\n",
    "In many bioinformatics labs, each of these steps often involves pre-existing scripts tailored to specific needs. For this example, we utilize code found within the `scripts/` directory to execute the pipeline.\n",
    "\n",
    "\n",
    "## Why Use an LLM Agent?\n",
    "\n",
    "Using an LLM-powered `Agent` for executing this workflow, instead of manually building the pipeline, offers several advantages:\n",
    "\n",
    "- **Parameter Customization**:  \n",
    "  The user can easily specify critical parameters and values without needing to manage every detail manually.\n",
    "\n",
    "- **Default Settings Management**:  \n",
    "  The LLM can handle the numerous arguments associated with available dynamics models in `scripts/classes/models.py`, most of which are likely insignificant to the user. This allows the user to focus on the important aspects of their analysis while the LLM manages defaults and less critical settings.\n",
    "\n",
    "By automating these tasks, the LLM `Agent` streamlines the biomarker identification process, saving time and reducing complexity.\n",
    "\n",
    "\n",
    "## Planner Module\n",
    "\n",
    "To automate the pipeline execution, BRAD can use a series of tools in response to a single user input. The `Agent.state` maintains a queue of instructions, along with a `queue-pointer` that determines which instruction to execute next. In this instance, the queue will correspond to executing one of the three steps in the biomarker pipeline above.\n",
    "\n",
    "```\n",
    "Agent.state = {\n",
    "    \"queue-pointer\": 1\n",
    "    \"queue\" = [\n",
    "        \"Instructions 1\",\n",
    "        \"Instructions 2\",\n",
    "        \"Instructions 3\",\n",
    "        ...\n",
    "    ],\n",
    "}\n",
    "```\n",
    "\n",
    "The `PLANNER` is a core module that allows the `Agent` to construct a series of smaller tasks for a user input. Like other modules, the **/force** keyword can direct the `Agent` to the planner tool. This tool then constructs a pipeline using one of two methods: (1) either the `PLANNER` will select a process from a prebuilt pipeline, or (2) it will design a new workflow, which can then be saved for later use. Like the [Scanpy example](https://github.com/Jpickard1/BRAD-Examples/tree/main/Scanpy), the LLM powered `Agent` is best at making quick, reliable and reproducible decisions, but performs worse under uncertainty or for automating new conditions. As a result, building and saving new pipelines for later use requires significant testing to ensure that the instructions and LLM prompts have their expected behavior.\n",
    "\n",
    "## Run the Workflow\n",
    "\n",
    "We use the below configurations, which are also found in `config-ex-3.json`, and we will use the input `/force PLANNER Execute a biomarker selection pipeline for RNAseq data` to run this pipeline.\n",
    "\n",
    "```\n",
    "{\n",
    "    \"CODE\": {\n",
    "        \"path\": [\n",
    "            \"/home/jpic/BRAD-Examples/DMD-Biomarkers/scripts/\"\n",
    "        ]\n",
    "    },\n",
    "    \"PLANNER\": {\n",
    "        \"path\": \"/home/jpic/BRAD-Examples/DMD-Biomarkers/pipelines/\"\n",
    "    },\n",
    "    \"debug\": 1,\n",
    "    \"log_path\": \"/home/jpic/BRAD-Examples/DMD-Biomarkers/output/\",\n",
    "}\n",
    "```\n",
    "\n",
    "For details on the DMD Model and Observability analysis performed in this pipeline, see the scripts found within the code path of the configurations."
   ]
  },
  {
   "cell_type": "code",
   "execution_count": 1,
   "id": "7f61514b-84df-4909-9daa-a50f54bb8e54",
   "metadata": {},
   "outputs": [
    {
     "name": "stderr",
     "output_type": "stream",
     "text": [
      "/home/jpic/.local/lib/python3.11/site-packages/pydantic/_internal/_config.py:341: UserWarning: Valid config keys have changed in V2:\n",
      "* 'allow_population_by_field_name' has been renamed to 'populate_by_name'\n",
      "* 'smart_union' has been removed\n",
      "  warnings.warn(message, UserWarning)\n",
      "The cache for model files in Transformers v4.22.0 has been updated. Migrating your old cache. This is a one-time only operation. You can interrupt this and resume the migration later on by calling `transformers.utils.move_cache()`.\n"
     ]
    },
    {
     "data": {
      "application/vnd.jupyter.widget-view+json": {
       "model_id": "aa5bb61f44af433f84b72db185623e26",
       "version_major": 2,
       "version_minor": 0
      },
      "text/plain": [
       "0it [00:00, ?it/s]"
      ]
     },
     "metadata": {},
     "output_type": "display_data"
    },
    {
     "name": "stderr",
     "output_type": "stream",
     "text": [
      "2024-11-27 13:14:11.165744: E external/local_xla/xla/stream_executor/cuda/cuda_fft.cc:477] Unable to register cuFFT factory: Attempting to register factory for plugin cuFFT when one has already been registered\n",
      "WARNING: All log messages before absl::InitializeLog() is called are written to STDERR\n",
      "E0000 00:00:1732731251.184158 3211316 cuda_dnn.cc:8310] Unable to register cuDNN factory: Attempting to register factory for plugin cuDNN when one has already been registered\n",
      "E0000 00:00:1732731251.189876 3211316 cuda_blas.cc:1418] Unable to register cuBLAS factory: Attempting to register factory for plugin cuBLAS when one has already been registered\n",
      "2024-11-27 13:14:11.209414: I tensorflow/core/platform/cpu_feature_guard.cc:210] This TensorFlow binary is optimized to use available CPU instructions in performance-critical operations.\n",
      "To enable the following instructions: AVX2 AVX512F FMA, in other operations, rebuild TensorFlow with the appropriate compiler flags.\n"
     ]
    },
    {
     "name": "stdin",
     "output_type": "stream",
     "text": [
      "Enter your Open AI API key:  ········\n"
     ]
    },
    {
     "name": "stdout",
     "output_type": "stream",
     "text": [
      "\n",
      "Would you like to use a database with BRAD [Y/N]?\n"
     ]
    },
    {
     "name": "stdin",
     "output_type": "stream",
     "text": [
      " N\n"
     ]
    },
    {
     "name": "stderr",
     "output_type": "stream",
     "text": [
      "/home/jpic/RAG-DEV/BRAD/agent.py:278: LangChainDeprecationWarning: Please see the migration guide at: https://python.langchain.com/docs/versions/migrating_memory/\n",
      "  memory = ConversationBufferMemory(ai_prefix=\"BRAD\")\n",
      "\u001b[32m2024-11-27 13:14:42 INFO semantic_router.utils.logger local\u001b[0m\n"
     ]
    },
    {
     "name": "stdout",
     "output_type": "stream",
     "text": [
      "Welcome to BRAD! The output from this conversation will be saved to /home/jpic/BRAD-Examples/DMD-Biomarkers/output/November 27, 2024 at 01:14:17 PM/log.json. How can I help?\n",
      "==================================================\n"
     ]
    },
    {
     "name": "stdin",
     "output_type": "stream",
     "text": [
      "Input >>  /force PLANNER Execute a biomarker selection pipeline for RNAseq data\n"
     ]
    },
    {
     "name": "stdout",
     "output_type": "stream",
     "text": [
      "==================================================\n",
      "BRAD >> 1: \n"
     ]
    },
    {
     "name": "stderr",
     "output_type": "stream",
     "text": [
      "/home/jpic/RAG-DEV/BRAD/planner.py:70: LangChainDeprecationWarning: The class `LLMChain` was deprecated in LangChain 0.1.17 and will be removed in 1.0. Use :meth:`~RunnableSequence, e.g., `prompt | llm`` instead.\n",
      "  conversation = LLMChain(prompt  = PROMPT,\n",
      "2024-11-27 13:14:56,543 - INFO - HTTP Request: POST https://api.openai.com/v1/chat/completions \"HTTP/1.1 200 OK\"\n"
     ]
    },
    {
     "name": "stdout",
     "output_type": "stream",
     "text": [
      "Display pipeline\n",
      "** Step 0**\n",
      "{'order': 0, 'module': 'PLANNER', 'prompt': 'none', 'description': 'This step designed the plan. It is placed in the queue because we needed a place holder for 0 indexed lists.', 'next': [1], 'inputs': []}\n",
      "\n",
      "\n",
      "** Step 1**\n",
      "{'order': 1, 'module': 'CODE', 'prompt': '/force CODE Load the 2015 gene expression dataset with gene coordinates.', 'description': 'This step is used to load the correct dataset to BRADs output directory', 'next': [2], 'inputs': []}\n",
      "\n",
      "\n",
      "** Step 2**\n",
      "{'order': 2, 'module': 'CODE', 'prompt': '/force CODE build a dynamics model of the 2015 gene coordinate time series data. Please select the appropriate parameters and inputs based on previous iterations.', 'description': 'This step builds models of the time series data that can be used for sensor selection.', 'next': [3], 'inputs': []}\n",
      "\n",
      "\n",
      "** Step 3**\n",
      "{'order': 3, 'module': 'CODE', 'prompt': '/force CODE perform biomarker selection on the model of the 2015 dataset. Please select the appropriate parameters and inputs based on previous iterations.', 'description': 'This step performs biomarker selection via observability analysis.', 'template': ['parameters, please fill in'], 'next': [4], 'inputs': [2]}\n",
      "\n",
      "\n",
      "==================================================\n",
      "/force CODE Load the 2015 gene expression dataset with gene coordinates.\n",
      "CODE\n",
      "==================================================\n",
      "BRAD >> 2: \n"
     ]
    },
    {
     "name": "stderr",
     "output_type": "stream",
     "text": [
      "2024-11-27 13:14:57,329 - INFO - HTTP Request: POST https://api.openai.com/v1/chat/completions \"HTTP/1.1 200 OK\"\n",
      "/home/jpic/.local/lib/python3.11/site-packages/langchain_core/runnables/base.py:3022: RuntimeWarning: coroutine 'ConversationBufferMemory.abuffer' was never awaited\n",
      "  input = context.run(step.invoke, input, config, **kwargs)\n",
      "RuntimeWarning: Enable tracemalloc to get the object allocation traceback\n",
      "2024-11-27 13:14:58,850 - INFO - HTTP Request: POST https://api.openai.com/v1/chat/completions \"HTTP/1.1 200 OK\"\n",
      "/home/jpic/RAG-DEV/BRAD/coder.py:209: LangChainDeprecationWarning: The class `ConversationChain` was deprecated in LangChain 0.2.7 and will be removed in 1.0. Use :meth:`~RunnableWithMessageHistory: https://python.langchain.com/v0.2/api_reference/core/runnables/langchain_core.runnables.history.RunnableWithMessageHistory.html` instead.\n",
      "  conversation = ConversationChain(\n",
      "2024-11-27 13:15:00,686 - INFO - HTTP Request: POST https://api.openai.com/v1/chat/completions \"HTTP/1.1 200 OK\"\n",
      "2024-11-27 13:15:05,436 - INFO - HTTP Request: POST https://api.openai.com/v1/chat/completions \"HTTP/1.1 200 OK\"\n"
     ]
    },
    {
     "name": "stdout",
     "output_type": "stream",
     "text": [
      "Based on the software output, the 2015 gene expression dataset with gene coordinates has been successfully converted and saved to the following location: /home/jpic/BRAD-Examples/DMD-Biomarkers/output/November 27, 2024 at 01:14:17 PM/S0-2015.pkl. This dataset is shaped as (19393, 9, 2) where the modes represent genes by time points by experimental replicates. You can load this dataset from the specified file path to access the gene expression data with gene coordinates from 2015.\n",
      "==================================================\n",
      "/force CODE build a dynamics model of the 2015 gene coordinate time series data. Please select the appropriate parameters and inputs based on previous iterations.\n",
      "CODE\n",
      "==================================================\n",
      "BRAD >> 3: \n"
     ]
    },
    {
     "name": "stderr",
     "output_type": "stream",
     "text": [
      "2024-11-27 13:15:06,199 - INFO - HTTP Request: POST https://api.openai.com/v1/chat/completions \"HTTP/1.1 200 OK\"\n",
      "/home/jpic/.local/lib/python3.11/site-packages/langchain_core/runnables/base.py:3022: RuntimeWarning: coroutine 'ConversationBufferMemory.abuffer' was never awaited\n",
      "  input = context.run(step.invoke, input, config, **kwargs)\n",
      "RuntimeWarning: Enable tracemalloc to get the object allocation traceback\n",
      "2024-11-27 13:15:07,485 - INFO - HTTP Request: POST https://api.openai.com/v1/chat/completions \"HTTP/1.1 200 OK\"\n",
      "2024-11-27 13:15:09,052 - INFO - HTTP Request: POST https://api.openai.com/v1/chat/completions \"HTTP/1.1 200 OK\"\n",
      "2024-11-27 13:16:02,168 - INFO - HTTP Request: POST https://api.openai.com/v1/chat/completions \"HTTP/1.1 200 OK\"\n"
     ]
    },
    {
     "name": "stdout",
     "output_type": "stream",
     "text": [
      "BRAD: The dynamics model of the 2015 gene coordinate time series data has been built using Dynamic Mode Decomposition (DMD). The output file for this model is saved at /home/jpic/BRAD-Examples/DMD-Biomarkers/output/November 27, 2024 at 01:14:17 PM/S1-2015.pkl. The input file used for this model was /home/jpic/BRAD-Examples/DMD-Biomarkers/output/November 27, 2024 at 01:14:17 PM/S0-2015.pkl. The DMD Rank for this model is None, indicating the complexity of the model. You can access and analyze this dynamics model from the specified file path to further explore the gene coordinate time series data from 2015.\n",
      "==================================================\n",
      "/force CODE perform biomarker selection on the model of the 2015 dataset. Please select the appropriate parameters and inputs based on previous iterations.\n",
      "CODE\n",
      "==================================================\n",
      "BRAD >> 4: \n"
     ]
    },
    {
     "name": "stderr",
     "output_type": "stream",
     "text": [
      "2024-11-27 13:16:03,097 - INFO - HTTP Request: POST https://api.openai.com/v1/chat/completions \"HTTP/1.1 200 OK\"\n",
      "/home/jpic/.local/lib/python3.11/site-packages/langchain_core/runnables/base.py:3022: RuntimeWarning: coroutine 'ConversationBufferMemory.abuffer' was never awaited\n",
      "  input = context.run(step.invoke, input, config, **kwargs)\n",
      "RuntimeWarning: Enable tracemalloc to get the object allocation traceback\n",
      "2024-11-27 13:16:04,426 - INFO - HTTP Request: POST https://api.openai.com/v1/chat/completions \"HTTP/1.1 200 OK\"\n",
      "2024-11-27 13:16:05,791 - INFO - HTTP Request: POST https://api.openai.com/v1/chat/completions \"HTTP/1.1 200 OK\"\n",
      "2024-11-27 13:16:30,209 - INFO - HTTP Request: POST https://api.openai.com/v1/chat/completions \"HTTP/1.1 200 OK\"\n"
     ]
    },
    {
     "name": "stdout",
     "output_type": "stream",
     "text": [
      "BRAD: The biomarker selection process has been performed on the model of the 2015 dataset using Dynamic Mode Decomposition (DMD) and Observability Energy guided sensor selection. The sensor file containing the selected biomarkers has been saved at /home/jpic/BRAD-Examples/DMD-Biomarkers/output/November 27, 2024 at 01:14:17 PM/S3-2015.csv. \n",
      "\n",
      "The top 30 ranked genes based on their contribution to observability are listed below:\n",
      "1. MT-CO1\n",
      "2. ACTB\n",
      "3. MT-ND4\n",
      "4. MT-CO3\n",
      "5. MT-CO2\n",
      "6. MT-ND5\n",
      "7. ACTG1\n",
      "8. LCP1\n",
      "9. B2M\n",
      "10. MT-CYB\n",
      "11. CD74\n",
      "12. GAPDH\n",
      "13. TUBB\n",
      "14. MT-ATP6\n",
      "15. ENO1\n",
      "16. HLA-DRA\n",
      "17. EEF2\n",
      "18. PKM\n",
      "19. HSPA8\n",
      "20. RPS6\n",
      "21. MT-ND4L\n",
      "22. HNRNPA2B1\n",
      "23. TPT1\n",
      "24. LDHA\n",
      "25. MT-ND1\n",
      "26. HSP90AB1\n",
      "27. MT-ND6\n",
      "28. HSP90AA1\n",
      "29. TMSB4X\n",
      "30. SRRM2\n",
      "\n",
      "These genes have been ranked based on their importance as biomarkers in the dataset. You can further analyze and interpret the results by referring to the specified file path for the sensor selection output.\n",
      "==================================================\n"
     ]
    },
    {
     "name": "stdin",
     "output_type": "stream",
     "text": [
      "Input >>  exit\n"
     ]
    },
    {
     "name": "stdout",
     "output_type": "stream",
     "text": [
      "Thanks for chatting today! I hope to talk soon, and don't forget that a record of this conversation is available at: /home/jpic/BRAD-Examples/DMD-Biomarkers/output/November 27, 2024 at 01:14:17 PM/log.json\n"
     ]
    }
   ],
   "source": [
    "from BRAD import agent\n",
    "\n",
    "agent.Agent(\n",
    "    config='config-ex-3.json',\n",
    "    tools = ['CODE', 'PLANNER']\n",
    ").chat()"
   ]
  },
  {
   "cell_type": "markdown",
   "id": "2d0e0ff1-f52e-4e68-97ce-0d9e28160f0a",
   "metadata": {},
   "source": [
    "---\n",
    "When finished, the `Agent` output directory should look something like below (the precise names may varry):\n",
    "\n",
    "```\n",
    "└── November 22, 2024 at 08:55:31 AM\n",
    "    ├── log.json       # the agent log records all actions used\n",
    "    ├── S0-2015.pkl    # the loaded data from step 1\n",
    "    ├── S1-2015.pkl    # the constructed model from step 2\n",
    "    └── S3-2015.csv    # the biomarker evaluation from step 3\n",
    "```\n",
    "\n",
    "Each of these files corresponds to a different output step of the workflow, and the log file allows for a complete transparency regarding all decisions made by the LLM throughout the workflow. For instance, the below snippit, taken from the log file, shows how the output from stage 1 was passed to the DMD model and that a full rank DMD, i.e. the exact DMD, was used:\n",
    "\n",
    "```\n",
    "{\n",
    "    \"func\": \"pythonCaller.execute_python_code\",\n",
    "    \"code\": \"response = subprocess.run([sys.executable, '/home/jpic/BRAD-Examples/DMD-Biomarkers/scripts/buildModel.py', state['output-directory'], 'S1-2015.pkl', '/home/jpic/BRAD-Examples/DMD-Biomarkers/output/November 22, 2024 at 08:55:31 AM/S0-2015.pkl', '-1'], capture_output=True, text=True)\",\n",
    "    \"purpose\": \"execute python code\"\n",
    "},\n",
    "```\n",
    "\n",
    "The information found within `S3-2015.csv` (file name may varry) will contain the desired output or top ranked marker genes for this dataset:"
   ]
  },
  {
   "cell_type": "code",
   "execution_count": 9,
   "id": "98c4ecc6-cc1a-48c6-a576-e9fbed1237b6",
   "metadata": {},
   "outputs": [
    {
     "data": {
      "text/html": [
       "<div>\n",
       "<style scoped>\n",
       "    .dataframe tbody tr th:only-of-type {\n",
       "        vertical-align: middle;\n",
       "    }\n",
       "\n",
       "    .dataframe tbody tr th {\n",
       "        vertical-align: top;\n",
       "    }\n",
       "\n",
       "    .dataframe thead th {\n",
       "        text-align: right;\n",
       "    }\n",
       "</style>\n",
       "<table border=\"1\" class=\"dataframe\">\n",
       "  <thead>\n",
       "    <tr style=\"text-align: right;\">\n",
       "      <th></th>\n",
       "      <th>Unnamed: 0</th>\n",
       "      <th>state</th>\n",
       "      <th>ev1</th>\n",
       "      <th>weight</th>\n",
       "      <th>rank</th>\n",
       "    </tr>\n",
       "  </thead>\n",
       "  <tbody>\n",
       "    <tr>\n",
       "      <th>0</th>\n",
       "      <td>0</td>\n",
       "      <td>MT-CO1</td>\n",
       "      <td>0.418736</td>\n",
       "      <td>0.418736</td>\n",
       "      <td>1.0</td>\n",
       "    </tr>\n",
       "    <tr>\n",
       "      <th>1</th>\n",
       "      <td>1</td>\n",
       "      <td>ACTB</td>\n",
       "      <td>0.349045</td>\n",
       "      <td>0.349045</td>\n",
       "      <td>2.0</td>\n",
       "    </tr>\n",
       "    <tr>\n",
       "      <th>2</th>\n",
       "      <td>2</td>\n",
       "      <td>MT-ND4</td>\n",
       "      <td>0.305872</td>\n",
       "      <td>0.305872</td>\n",
       "      <td>3.0</td>\n",
       "    </tr>\n",
       "    <tr>\n",
       "      <th>3</th>\n",
       "      <td>3</td>\n",
       "      <td>MT-CO3</td>\n",
       "      <td>0.296518</td>\n",
       "      <td>0.296518</td>\n",
       "      <td>4.0</td>\n",
       "    </tr>\n",
       "    <tr>\n",
       "      <th>4</th>\n",
       "      <td>4</td>\n",
       "      <td>MT-CO2</td>\n",
       "      <td>0.210251</td>\n",
       "      <td>0.210251</td>\n",
       "      <td>5.0</td>\n",
       "    </tr>\n",
       "  </tbody>\n",
       "</table>\n",
       "</div>"
      ],
      "text/plain": [
       "   Unnamed: 0   state       ev1    weight  rank\n",
       "0           0  MT-CO1  0.418736  0.418736   1.0\n",
       "1           1    ACTB  0.349045  0.349045   2.0\n",
       "2           2  MT-ND4  0.305872  0.305872   3.0\n",
       "3           3  MT-CO3  0.296518  0.296518   4.0\n",
       "4           4  MT-CO2  0.210251  0.210251   5.0"
      ]
     },
     "execution_count": 9,
     "metadata": {},
     "output_type": "execute_result"
    }
   ],
   "source": [
    "import pandas as pd\n",
    "df = pd.read_csv('output/November 22, 2024 at 08:55:31 AM/S3-2015.csv')\n",
    "df.head()"
   ]
  },
  {
   "cell_type": "markdown",
   "id": "2405342f-9530-4f95-b7c1-79bbb87ae3ce",
   "metadata": {},
   "source": [
    "---\n",
    "\n",
    "In essance, the LLM has run the workflow in a reproducible mannor without requiring (but still allowing) human supervision over each stage and decision made.\n",
    "\n",
    "Thank you for following the last of the four **BRAD-Examples**. Please checkout our GUI and share any feedback on how the system performs for your applications.\n",
    "\n"
   ]
  },
  {
   "cell_type": "code",
   "execution_count": null,
   "id": "c9daa729-8095-4c25-bd5a-8c50390c8ae2",
   "metadata": {},
   "outputs": [],
   "source": []
  }
 ],
 "metadata": {
  "kernelspec": {
   "display_name": "Python 3 (ipykernel)",
   "language": "python",
   "name": "python3"
  },
  "language_info": {
   "codemirror_mode": {
    "name": "ipython",
    "version": 3
   },
   "file_extension": ".py",
   "mimetype": "text/x-python",
   "name": "python",
   "nbconvert_exporter": "python",
   "pygments_lexer": "ipython3",
   "version": "3.11.7"
  }
 },
 "nbformat": 4,
 "nbformat_minor": 5
}
