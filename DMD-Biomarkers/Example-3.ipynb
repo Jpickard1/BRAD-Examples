{
 "cells": [
  {
   "cell_type": "markdown",
   "id": "f44454be-36db-454d-9442-0c6134aee0c4",
   "metadata": {},
   "source": [
    "# EX3. Biomarker Identification with BRAD\n",
    "\n",
    "In this example, we leverage previously developed methods and the `CODE` module to perform biomarker selection efficiently and effectively.\n",
    "\n",
    "\n",
    "## Biomarker Identification Pipeline\n",
    "\n",
    "1. **Collect Data**  \n",
    "   Gather and organize time-series data for the system under study.\n",
    "\n",
    "2. **Model Data**  \n",
    "   Build a dynamics model to describe the system's behavior over time.\n",
    "\n",
    "3. **Observability Analysis**  \n",
    "   Identify biomarkers that maximize the system's observability.\n",
    "\n",
    "\n",
    "In many bioinformatics labs, each of these steps often involves pre-existing scripts tailored to specific needs. For this example, we utilize code found within the `scripts/` directory to execute the pipeline.\n",
    "\n",
    "\n",
    "## Why Use an LLM Agent?\n",
    "\n",
    "Using an LLM-powered `Agent` for executing this workflow, instead of manually building the pipeline, offers several advantages:\n",
    "\n",
    "- **Parameter Customization**:  \n",
    "  The user can easily specify critical parameters and values without needing to manage every detail manually.\n",
    "\n",
    "- **Default Settings Management**:  \n",
    "  The LLM can handle the numerous arguments associated with available dynamics models in `scripts/classes/models.py`, most of which are likely insignificant to the user. This allows the user to focus on the important aspects of their analysis while the LLM manages defaults and less critical settings.\n",
    "\n",
    "By automating these tasks, the LLM `Agent` streamlines the biomarker identification process, saving time and reducing complexity.\n",
    "\n",
    "\n",
    "## Planner Module\n",
    "\n",
    "To automate the pipeline execution, BRAD can use a series of tools in response to a single user input. The `Agent.state` maintains a queue of instructions, along with a `queue-pointer` that determines which instruction to execute next. In this instance, the queue will correspond to executing one of the three steps in the biomarker pipeline above.\n",
    "\n",
    "```\n",
    "Agent.state = {\n",
    "    \"queue-pointer\": 1\n",
    "    \"queue\" = [\n",
    "        \"Instructions 1\",\n",
    "        \"Instructions 2\",\n",
    "        \"Instructions 3\",\n",
    "        ...\n",
    "    ],\n",
    "}\n",
    "```\n",
    "\n",
    "The `PLANNER` is a core module that allows the `Agent` to construct a series of smaller tasks for a user input. Like other modules, the **/force** keyword can direct the `Agent` to the planner tool. This tool then constructs a pipeline using one of two methods: (1) either the `PLANNER` will select a process from a prebuilt pipeline, or (2) it will design a new workflow, which can then be saved for later use. Like the [Scanpy example](https://github.com/Jpickard1/BRAD-Examples/tree/main/Scanpy), the LLM powered `Agent` is best at making quick, reliable and reproducible decisions, but performs worse under uncertainty or for automating new conditions. As a result, building and saving new pipelines for later use requires significant testing to ensure that the instructions and LLM prompts have their expected behavior.\n",
    "\n",
    "## Run the Workflow\n",
    "\n",
    "We use the below configurations, which are also found in `config-ex-3.json`, and we will use the input `/force PLANNER Execute a biomarker selection pipeline for RNAseq data` to run this pipeline.\n",
    "\n",
    "```\n",
    "{\n",
    "    \"CODE\": {\n",
    "        \"path\": [\n",
    "            \"/home/jpic/BRAD-Examples/DMD-Biomarkers/scripts/\"\n",
    "        ]\n",
    "    },\n",
    "    \"PLANNER\": {\n",
    "        \"path\": \"/home/jpic/BRAD-Examples/DMD-Biomarkers/pipelines/\"\n",
    "    },\n",
    "    \"debug\": 1,\n",
    "    \"log_path\": \"/home/jpic/BRAD-Examples/DMD-Biomarkers/output/\",\n",
    "}\n",
    "```\n",
    "\n",
    "For details on the DMD Model and Observability analysis performed in this pipeline, see the scripts found within the code path of the configurations."
   ]
  },
  {
   "cell_type": "code",
   "execution_count": 6,
   "id": "7f61514b-84df-4909-9daa-a50f54bb8e54",
   "metadata": {},
   "outputs": [
    {
     "name": "stdout",
     "output_type": "stream",
     "text": [
      "\n",
      "Would you like to use a database with BRAD [Y/N]?\n"
     ]
    },
    {
     "name": "stdin",
     "output_type": "stream",
     "text": [
      " N\n"
     ]
    },
    {
     "name": "stderr",
     "output_type": "stream",
     "text": [
      "\u001b[32m2024-11-22 08:55:34 INFO semantic_router.utils.logger local\u001b[0m\n"
     ]
    },
    {
     "name": "stdout",
     "output_type": "stream",
     "text": [
      "Welcome to BRAD! The output from this conversation will be saved to /home/jpic/BRAD-Examples/DMD-Biomarkers/output/November 22, 2024 at 08:55:31 AM/log.json. How can I help?\n",
      "==================================================\n"
     ]
    },
    {
     "name": "stdin",
     "output_type": "stream",
     "text": [
      "Input >>  /force PLANNER Execute a biomarker selection pipeline for RNAseq data\n"
     ]
    },
    {
     "name": "stdout",
     "output_type": "stream",
     "text": [
      "==================================================\n",
      "BRAD >> 1: \n"
     ]
    },
    {
     "name": "stderr",
     "output_type": "stream",
     "text": [
      "2024-11-22 08:55:37,797 - INFO - HTTP Request: POST https://api.openai.com/v1/chat/completions \"HTTP/1.1 200 OK\"\n"
     ]
    },
    {
     "name": "stdout",
     "output_type": "stream",
     "text": [
      "Display pipeline\n",
      "** Step 0**\n",
      "{'order': 0, 'module': 'PLANNER', 'prompt': 'none', 'description': 'This step designed the plan. It is placed in the queue because we needed a place holder for 0 indexed lists.', 'next': [1], 'inputs': []}\n",
      "\n",
      "\n",
      "** Step 1**\n",
      "{'order': 1, 'module': 'CODE', 'prompt': '/force CODE Load the 2015 gene expression dataset with gene coordinates.', 'description': 'This step is used to load the correct dataset to BRADs output directory', 'next': [2], 'inputs': []}\n",
      "\n",
      "\n",
      "** Step 2**\n",
      "{'order': 2, 'module': 'CODE', 'prompt': '/force CODE build a dynamics model of the 2015 gene coordinate time series data. Please select the appropriate parameters and inputs based on previous iterations.', 'description': 'This step builds models of the time series data that can be used for sensor selection.', 'next': [3], 'inputs': []}\n",
      "\n",
      "\n",
      "** Step 3**\n",
      "{'order': 3, 'module': 'CODE', 'prompt': '/force CODE perform biomarker selection on the model of the 2015 dataset. Please select the appropriate parameters and inputs based on previous iterations.', 'description': 'This step performs biomarker selection via observability analysis.', 'template': ['parameters, please fill in'], 'next': [4], 'inputs': [2]}\n",
      "\n",
      "\n",
      "==================================================\n",
      "/force CODE Load the 2015 gene expression dataset with gene coordinates.\n",
      "CODE\n",
      "==================================================\n",
      "BRAD >> 2: \n"
     ]
    },
    {
     "name": "stderr",
     "output_type": "stream",
     "text": [
      "2024-11-22 08:55:38,665 - INFO - HTTP Request: POST https://api.openai.com/v1/chat/completions \"HTTP/1.1 200 OK\"\n",
      "/home/jpic/.local/lib/python3.11/site-packages/langchain_core/runnables/base.py:2873: RuntimeWarning: coroutine 'ConversationBufferMemory.abuffer' was never awaited\n",
      "  input = step.invoke(input, config, **kwargs)\n",
      "RuntimeWarning: Enable tracemalloc to get the object allocation traceback\n",
      "2024-11-22 08:55:40,462 - INFO - HTTP Request: POST https://api.openai.com/v1/chat/completions \"HTTP/1.1 200 OK\"\n",
      "2024-11-22 08:55:41,792 - INFO - HTTP Request: POST https://api.openai.com/v1/chat/completions \"HTTP/1.1 200 OK\"\n"
     ]
    },
    {
     "name": "stdout",
     "output_type": "stream",
     "text": [
      "==================================================\n",
      "/force CODE build a dynamics model of the 2015 gene coordinate time series data. Please select the appropriate parameters and inputs based on previous iterations.\n",
      "CODE\n",
      "==================================================\n",
      "BRAD >> 3: \n"
     ]
    },
    {
     "name": "stderr",
     "output_type": "stream",
     "text": [
      "2024-11-22 08:55:46,503 - INFO - HTTP Request: POST https://api.openai.com/v1/chat/completions \"HTTP/1.1 200 OK\"\n",
      "/home/jpic/.local/lib/python3.11/site-packages/langchain_core/runnables/base.py:2873: RuntimeWarning: coroutine 'ConversationBufferMemory.abuffer' was never awaited\n",
      "  input = step.invoke(input, config, **kwargs)\n",
      "RuntimeWarning: Enable tracemalloc to get the object allocation traceback\n",
      "2024-11-22 08:55:49,139 - INFO - HTTP Request: POST https://api.openai.com/v1/chat/completions \"HTTP/1.1 200 OK\"\n",
      "2024-11-22 08:55:50,812 - INFO - HTTP Request: POST https://api.openai.com/v1/chat/completions \"HTTP/1.1 200 OK\"\n"
     ]
    },
    {
     "name": "stdout",
     "output_type": "stream",
     "text": [
      "==================================================\n",
      "/force CODE perform biomarker selection on the model of the 2015 dataset. Please select the appropriate parameters and inputs based on previous iterations.\n",
      "CODE\n",
      "==================================================\n",
      "BRAD >> 4: \n"
     ]
    },
    {
     "name": "stderr",
     "output_type": "stream",
     "text": [
      "2024-11-22 08:56:34,458 - INFO - HTTP Request: POST https://api.openai.com/v1/chat/completions \"HTTP/1.1 200 OK\"\n",
      "/home/jpic/.local/lib/python3.11/site-packages/langchain_core/runnables/base.py:2873: RuntimeWarning: coroutine 'ConversationBufferMemory.abuffer' was never awaited\n",
      "  input = step.invoke(input, config, **kwargs)\n",
      "RuntimeWarning: Enable tracemalloc to get the object allocation traceback\n",
      "2024-11-22 08:56:36,885 - INFO - HTTP Request: POST https://api.openai.com/v1/chat/completions \"HTTP/1.1 200 OK\"\n",
      "2024-11-22 08:56:38,892 - INFO - HTTP Request: POST https://api.openai.com/v1/chat/completions \"HTTP/1.1 200 OK\"\n"
     ]
    },
    {
     "name": "stdout",
     "output_type": "stream",
     "text": [
      "==================================================\n"
     ]
    },
    {
     "name": "stdin",
     "output_type": "stream",
     "text": [
      "Input >>  exit\n"
     ]
    },
    {
     "name": "stdout",
     "output_type": "stream",
     "text": [
      "Thanks for chatting today! I hope to talk soon, and don't forget that a record of this conversation is available at: /home/jpic/BRAD-Examples/DMD-Biomarkers/output/November 22, 2024 at 08:55:31 AM/log.json\n"
     ]
    }
   ],
   "source": [
    "from BRAD import agent\n",
    "\n",
    "bot = agent.Agent(\n",
    "    config='config-ex-3.json',\n",
    "    tools = ['CODE', 'PLANNER']\n",
    ").chat()"
   ]
  },
  {
   "cell_type": "markdown",
   "id": "2d0e0ff1-f52e-4e68-97ce-0d9e28160f0a",
   "metadata": {},
   "source": [
    "---\n",
    "When finished, the `Agent` output directory should look something like below (the precise names may varry):\n",
    "\n",
    "```\n",
    "└── November 22, 2024 at 08:55:31 AM\n",
    "    ├── log.json       # the agent log records all actions used\n",
    "    ├── S0-2015.pkl    # the loaded data from step 1\n",
    "    ├── S1-2015.pkl    # the constructed model from step 2\n",
    "    └── S3-2015.csv    # the biomarker evaluation from step 3\n",
    "```\n",
    "\n",
    "Each of these files corresponds to a different output step of the workflow, and the log file allows for a complete transparency regarding all decisions made by the LLM throughout the workflow. For instance, the below snippit, taken from the log file, shows how the output from stage 1 was passed to the DMD model and that a full rank DMD, i.e. the exact DMD, was used:\n",
    "\n",
    "```\n",
    "{\n",
    "    \"func\": \"pythonCaller.execute_python_code\",\n",
    "    \"code\": \"response = subprocess.run([sys.executable, '/home/jpic/BRAD-Examples/DMD-Biomarkers/scripts/buildModel.py', state['output-directory'], 'S1-2015.pkl', '/home/jpic/BRAD-Examples/DMD-Biomarkers/output/November 22, 2024 at 08:55:31 AM/S0-2015.pkl', '-1'], capture_output=True, text=True)\",\n",
    "    \"purpose\": \"execute python code\"\n",
    "},\n",
    "```\n",
    "\n",
    "The information found within `S3-2015.csv` (file name may varry) will contain the desired output or top ranked marker genes for this dataset:"
   ]
  },
  {
   "cell_type": "code",
   "execution_count": 9,
   "id": "98c4ecc6-cc1a-48c6-a576-e9fbed1237b6",
   "metadata": {},
   "outputs": [
    {
     "data": {
      "text/html": [
       "<div>\n",
       "<style scoped>\n",
       "    .dataframe tbody tr th:only-of-type {\n",
       "        vertical-align: middle;\n",
       "    }\n",
       "\n",
       "    .dataframe tbody tr th {\n",
       "        vertical-align: top;\n",
       "    }\n",
       "\n",
       "    .dataframe thead th {\n",
       "        text-align: right;\n",
       "    }\n",
       "</style>\n",
       "<table border=\"1\" class=\"dataframe\">\n",
       "  <thead>\n",
       "    <tr style=\"text-align: right;\">\n",
       "      <th></th>\n",
       "      <th>Unnamed: 0</th>\n",
       "      <th>state</th>\n",
       "      <th>ev1</th>\n",
       "      <th>weight</th>\n",
       "      <th>rank</th>\n",
       "    </tr>\n",
       "  </thead>\n",
       "  <tbody>\n",
       "    <tr>\n",
       "      <th>0</th>\n",
       "      <td>0</td>\n",
       "      <td>MT-CO1</td>\n",
       "      <td>0.418736</td>\n",
       "      <td>0.418736</td>\n",
       "      <td>1.0</td>\n",
       "    </tr>\n",
       "    <tr>\n",
       "      <th>1</th>\n",
       "      <td>1</td>\n",
       "      <td>ACTB</td>\n",
       "      <td>0.349045</td>\n",
       "      <td>0.349045</td>\n",
       "      <td>2.0</td>\n",
       "    </tr>\n",
       "    <tr>\n",
       "      <th>2</th>\n",
       "      <td>2</td>\n",
       "      <td>MT-ND4</td>\n",
       "      <td>0.305872</td>\n",
       "      <td>0.305872</td>\n",
       "      <td>3.0</td>\n",
       "    </tr>\n",
       "    <tr>\n",
       "      <th>3</th>\n",
       "      <td>3</td>\n",
       "      <td>MT-CO3</td>\n",
       "      <td>0.296518</td>\n",
       "      <td>0.296518</td>\n",
       "      <td>4.0</td>\n",
       "    </tr>\n",
       "    <tr>\n",
       "      <th>4</th>\n",
       "      <td>4</td>\n",
       "      <td>MT-CO2</td>\n",
       "      <td>0.210251</td>\n",
       "      <td>0.210251</td>\n",
       "      <td>5.0</td>\n",
       "    </tr>\n",
       "  </tbody>\n",
       "</table>\n",
       "</div>"
      ],
      "text/plain": [
       "   Unnamed: 0   state       ev1    weight  rank\n",
       "0           0  MT-CO1  0.418736  0.418736   1.0\n",
       "1           1    ACTB  0.349045  0.349045   2.0\n",
       "2           2  MT-ND4  0.305872  0.305872   3.0\n",
       "3           3  MT-CO3  0.296518  0.296518   4.0\n",
       "4           4  MT-CO2  0.210251  0.210251   5.0"
      ]
     },
     "execution_count": 9,
     "metadata": {},
     "output_type": "execute_result"
    }
   ],
   "source": [
    "import pandas as pd\n",
    "df = pd.read_csv('output/November 22, 2024 at 08:55:31 AM/S3-2015.csv')\n",
    "df.head()"
   ]
  },
  {
   "cell_type": "markdown",
   "id": "2405342f-9530-4f95-b7c1-79bbb87ae3ce",
   "metadata": {},
   "source": [
    "---\n",
    "\n",
    "In essance, the LLM has run the workflow in a reproducible mannor without requiring (but still allowing) human supervision over each stage and decision made.\n",
    "\n",
    "Thank you for following the last of the four **BRAD-Examples**. Please checkout our GUI and share any feedback on how the system performs for your applications.\n",
    "\n"
   ]
  }
 ],
 "metadata": {
  "kernelspec": {
   "display_name": "Python 3 (ipykernel)",
   "language": "python",
   "name": "python3"
  },
  "language_info": {
   "codemirror_mode": {
    "name": "ipython",
    "version": 3
   },
   "file_extension": ".py",
   "mimetype": "text/x-python",
   "name": "python",
   "nbconvert_exporter": "python",
   "pygments_lexer": "ipython3",
   "version": "3.11.7"
  }
 },
 "nbformat": 4,
 "nbformat_minor": 5
}
