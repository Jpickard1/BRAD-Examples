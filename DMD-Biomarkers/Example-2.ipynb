{
 "cells": [
  {
   "cell_type": "markdown",
   "id": "f44454be-36db-454d-9442-0c6134aee0c4",
   "metadata": {},
   "source": [
    "# Biomarker Identification with BRAD"
   ]
  },
  {
   "cell_type": "code",
   "execution_count": 1,
   "id": "7f61514b-84df-4909-9daa-a50f54bb8e54",
   "metadata": {},
   "outputs": [
    {
     "name": "stderr",
     "output_type": "stream",
     "text": [
      "2024-11-21 10:37:18.227058: E external/local_xla/xla/stream_executor/cuda/cuda_fft.cc:485] Unable to register cuFFT factory: Attempting to register factory for plugin cuFFT when one has already been registered\n",
      "2024-11-21 10:37:18.245583: E external/local_xla/xla/stream_executor/cuda/cuda_dnn.cc:8454] Unable to register cuDNN factory: Attempting to register factory for plugin cuDNN when one has already been registered\n",
      "2024-11-21 10:37:18.251257: E external/local_xla/xla/stream_executor/cuda/cuda_blas.cc:1452] Unable to register cuBLAS factory: Attempting to register factory for plugin cuBLAS when one has already been registered\n",
      "2024-11-21 10:37:18.265386: I tensorflow/core/platform/cpu_feature_guard.cc:210] This TensorFlow binary is optimized to use available CPU instructions in performance-critical operations.\n",
      "To enable the following instructions: AVX2 AVX512F FMA, in other operations, rebuild TensorFlow with the appropriate compiler flags.\n",
      "2024-11-21 10:37:19.530311: W tensorflow/compiler/tf2tensorrt/utils/py_utils.cc:38] TF-TRT Warning: Could not find TensorRT\n"
     ]
    }
   ],
   "source": [
    "from BRAD import agent"
   ]
  },
  {
   "cell_type": "raw",
   "id": "586f9836-af36-4b81-ba29-9f00fafc51e7",
   "metadata": {},
   "source": [
    "{\n",
    "    \"CODE\": {\n",
    "        \"path\": [\n",
    "            \"/home/jpic/BRAD-Examples/DMD-Biomarkers/scripts/\"\n",
    "        ]\n",
    "    },\n",
    "    \"PLANNER\": {\n",
    "        \"path\": \"/home/jpic/BRAD-Examples/DMD-Biomarkers/pipelines/\"\n",
    "    },\n",
    "    \"debug\": 1,\n",
    "    \"log_path\": \"/home/jpic/BRAD-Examples/DMD-Biomarkers/output/\",\n",
    "}"
   ]
  },
  {
   "cell_type": "code",
   "execution_count": 2,
   "id": "d0ab3241-2e10-45da-abe7-5be6f15b9945",
   "metadata": {},
   "outputs": [
    {
     "name": "stdin",
     "output_type": "stream",
     "text": [
      "Enter your Open AI API key:  ········\n"
     ]
    },
    {
     "name": "stdout",
     "output_type": "stream",
     "text": [
      "\n",
      "Would you like to use a database with BRAD [Y/N]?\n"
     ]
    },
    {
     "name": "stdin",
     "output_type": "stream",
     "text": [
      " N\n"
     ]
    },
    {
     "name": "stderr",
     "output_type": "stream",
     "text": [
      "\u001b[32m2024-11-21 10:37:28 INFO semantic_router.utils.logger local\u001b[0m\n"
     ]
    },
    {
     "name": "stdout",
     "output_type": "stream",
     "text": [
      "Welcome to RAG! The chat log from this conversation will be saved to /home/jpic/BRAD-Examples/DMD-Biomarkers/output/November 21, 2024 at 10:37:21 AM/log.json. How can I help?\n"
     ]
    }
   ],
   "source": [
    "bot = agent.Agent(\n",
    "    config='config-ex-2.json',\n",
    "    tools = ['CODE', 'PLANNER']\n",
    ")"
   ]
  },
  {
   "cell_type": "code",
   "execution_count": null,
   "id": "a48e0d50-b1cc-4338-9db4-69a08c364e86",
   "metadata": {},
   "outputs": [
    {
     "name": "stdout",
     "output_type": "stream",
     "text": [
      "==================================================\n"
     ]
    },
    {
     "name": "stdin",
     "output_type": "stream",
     "text": [
      "Input >>  /force PLANNER Execute a biomarker selection pipeline for RNAseq data\n"
     ]
    },
    {
     "name": "stdout",
     "output_type": "stream",
     "text": [
      "Agent.invoke: query='/force PLANNER Execute a biomarker selection pipeline for RNAseq data'\n",
      "==================================================\n",
      "BRAD >> 1: \n"
     ]
    },
    {
     "name": "stderr",
     "output_type": "stream",
     "text": [
      "/home/jpic/.local/lib/python3.11/site-packages/langchain_core/_api/deprecation.py:139: LangChainDeprecationWarning: The class `LLMChain` was deprecated in LangChain 0.1.17 and will be removed in 1.0. Use RunnableSequence, e.g., `prompt | llm` instead.\n",
      "  warn_deprecated(\n",
      "2024-11-21 10:37:36,321 - INFO - HTTP Request: POST https://api.openai.com/v1/chat/completions \"HTTP/1.1 200 OK\"\n"
     ]
    },
    {
     "name": "stdout",
     "output_type": "stream",
     "text": [
      "Display pipeline\n",
      "** Step 0**\n",
      "{'order': 0, 'module': 'PLANNER', 'prompt': 'none', 'description': 'This step designed the plan. It is placed in the queue because we needed a place holder for 0 indexed lists.', 'next': [1], 'inputs': []}\n",
      "\n",
      "\n",
      "** Step 1**\n",
      "{'order': 1, 'module': 'CODE', 'prompt': '/force CODE Load the 2015 gene expression dataset with gene coordinates.', 'description': 'This step is used to load the correct dataset to BRADs output directory', 'next': [2], 'inputs': []}\n",
      "\n",
      "\n",
      "** Step 2**\n",
      "{'order': 2, 'module': 'CODE', 'prompt': '/force CODE build a dynamics model of the 2015 gene coordinate time series data. Please select the appropriate parameters and inputs based on previous iterations.', 'description': 'This step builds models of the time series data that can be used for sensor selection.', 'next': [3], 'inputs': []}\n",
      "\n",
      "\n",
      "** Step 3**\n",
      "{'order': 3, 'module': 'CODE', 'prompt': '/force CODE perform biomarker selection on the model of the 2015 dataset. Please select the appropriate parameters and inputs based on previous iterations.', 'description': 'This step performs biomarker selection via observability analysis.', 'template': ['parameters, please fill in'], 'next': [4], 'inputs': [2]}\n",
      "\n",
      "\n",
      "==================================================\n",
      "/force CODE Load the 2015 gene expression dataset with gene coordinates.\n",
      "CODE\n",
      "Agent.invoke: query='/force CODE Load the 2015 gene expression dataset with gene coordinates.'\n",
      "==================================================\n",
      "BRAD >> 2: \n"
     ]
    },
    {
     "name": "stderr",
     "output_type": "stream",
     "text": [
      "2024-11-21 10:37:37,288 - INFO - HTTP Request: POST https://api.openai.com/v1/chat/completions \"HTTP/1.1 200 OK\"\n",
      "/home/jpic/.local/lib/python3.11/site-packages/langchain_core/runnables/base.py:2873: RuntimeWarning: coroutine 'ConversationBufferMemory.abuffer' was never awaited\n",
      "  input = step.invoke(input, config, **kwargs)\n",
      "RuntimeWarning: Enable tracemalloc to get the object allocation traceback\n",
      "2024-11-21 10:37:38,988 - INFO - HTTP Request: POST https://api.openai.com/v1/chat/completions \"HTTP/1.1 200 OK\"\n",
      "2024-11-21 10:37:41,108 - INFO - HTTP Request: POST https://api.openai.com/v1/chat/completions \"HTTP/1.1 200 OK\"\n"
     ]
    },
    {
     "name": "stdout",
     "output_type": "stream",
     "text": [
      "==================================================\n",
      "/force CODE build a dynamics model of the 2015 gene coordinate time series data. Please select the appropriate parameters and inputs based on previous iterations.\n",
      "CODE\n",
      "Agent.invoke: query='/force CODE build a dynamics model of the 2015 gene coordinate time series data. Please select the appropriate parameters and inputs based on previous iterations.'\n",
      "==================================================\n",
      "BRAD >> 3: \n"
     ]
    },
    {
     "name": "stderr",
     "output_type": "stream",
     "text": [
      "2024-11-21 10:37:45,503 - INFO - HTTP Request: POST https://api.openai.com/v1/chat/completions \"HTTP/1.1 200 OK\"\n",
      "/home/jpic/.local/lib/python3.11/site-packages/langchain_core/runnables/base.py:2873: RuntimeWarning: coroutine 'ConversationBufferMemory.abuffer' was never awaited\n",
      "  input = step.invoke(input, config, **kwargs)\n",
      "RuntimeWarning: Enable tracemalloc to get the object allocation traceback\n",
      "2024-11-21 10:37:47,618 - INFO - HTTP Request: POST https://api.openai.com/v1/chat/completions \"HTTP/1.1 200 OK\"\n",
      "2024-11-21 10:37:49,635 - INFO - HTTP Request: POST https://api.openai.com/v1/chat/completions \"HTTP/1.1 200 OK\"\n"
     ]
    },
    {
     "name": "stdout",
     "output_type": "stream",
     "text": [
      "==================================================\n",
      "/force CODE perform biomarker selection on the model of the 2015 dataset. Please select the appropriate parameters and inputs based on previous iterations.\n",
      "CODE\n",
      "Agent.invoke: query='/force CODE perform biomarker selection on the model of the 2015 dataset. Please select the appropriate parameters and inputs based on previous iterations.'\n",
      "==================================================\n",
      "BRAD >> 4: \n"
     ]
    },
    {
     "name": "stderr",
     "output_type": "stream",
     "text": [
      "2024-11-21 10:38:36,163 - INFO - HTTP Request: POST https://api.openai.com/v1/chat/completions \"HTTP/1.1 200 OK\"\n",
      "/home/jpic/.local/lib/python3.11/site-packages/langchain_core/runnables/base.py:2873: RuntimeWarning: coroutine 'ConversationBufferMemory.abuffer' was never awaited\n",
      "  input = step.invoke(input, config, **kwargs)\n",
      "RuntimeWarning: Enable tracemalloc to get the object allocation traceback\n",
      "2024-11-21 10:38:38,319 - INFO - HTTP Request: POST https://api.openai.com/v1/chat/completions \"HTTP/1.1 200 OK\"\n",
      "2024-11-21 10:38:40,614 - INFO - HTTP Request: POST https://api.openai.com/v1/chat/completions \"HTTP/1.1 200 OK\"\n"
     ]
    },
    {
     "name": "stdout",
     "output_type": "stream",
     "text": [
      "==================================================\n"
     ]
    }
   ],
   "source": [
    "bot.chat()"
   ]
  },
  {
   "cell_type": "code",
   "execution_count": 3,
   "id": "3963107b-3666-48b7-983d-43b8f51c13b1",
   "metadata": {},
   "outputs": [
    {
     "name": "stdout",
     "output_type": "stream",
     "text": [
      "==================================================\n",
      "BRAD >> 1: \n"
     ]
    },
    {
     "name": "stderr",
     "output_type": "stream",
     "text": [
      "/home/jpic/.local/lib/python3.11/site-packages/langchain_core/_api/deprecation.py:139: LangChainDeprecationWarning: The class `LLMChain` was deprecated in LangChain 0.1.17 and will be removed in 1.0. Use RunnableSequence, e.g., `prompt | llm` instead.\n",
      "  warn_deprecated(\n",
      "2024-11-21 09:12:24,553 - INFO - HTTP Request: POST https://api.openai.com/v1/chat/completions \"HTTP/1.1 200 OK\"\n"
     ]
    },
    {
     "name": "stdout",
     "output_type": "stream",
     "text": [
      "Step 5\n",
      "** Step 0**\n",
      "{'order': 0, 'module': 'PLANNER', 'prompt': 'none', 'description': 'This step designed the plan. It is placed in the queue because we needed a place holder for 0 indexed lists.', 'next': [1], 'inputs': []}\n",
      "\n",
      "\n",
      "** Step 1**\n",
      "{'order': 1, 'module': 'CODE', 'prompt': '/force CODE Load the 2015 gene expression dataset with gene coordinates.', 'description': 'This step is used to load the correct dataset to BRADs output directory', 'next': [2], 'inputs': []}\n",
      "\n",
      "\n",
      "** Step 2**\n",
      "{'order': 2, 'module': 'CODE', 'prompt': '/force CODE build a dynamics model of the 2015 gene coordinate time series data. Please select the appropriate parameters and inputs based on previous iterations.', 'description': 'This step builds models of the time series data that can be used for sensor selection.', 'next': [3], 'inputs': []}\n",
      "\n",
      "\n",
      "** Step 3**\n",
      "{'order': 3, 'module': 'CODE', 'prompt': '/force CODE perform biomarker selection on the model of the 2015 dataset. Please select the appropriate parameters and inputs based on previous iterations.', 'description': 'This step performs biomarker selection via observability analysis.', 'template': ['parameters, please fill in'], 'next': [4], 'inputs': [2]}\n",
      "\n",
      "\n",
      "** Step 0**{'order': 0, 'module': 'PLANNER', 'prompt': 'none', 'description': 'This step designed the plan. It is placed in the queue because we needed a place holder for 0 indexed lists.', 'next': [1], 'inputs': []}\n",
      "** Step 1**{'order': 1, 'module': 'CODE', 'prompt': '/force CODE Load the 2015 gene expression dataset with gene coordinates.', 'description': 'This step is used to load the correct dataset to BRADs output directory', 'next': [2], 'inputs': []}\n",
      "** Step 2**{'order': 2, 'module': 'CODE', 'prompt': '/force CODE build a dynamics model of the 2015 gene coordinate time series data. Please select the appropriate parameters and inputs based on previous iterations.', 'description': 'This step builds models of the time series data that can be used for sensor selection.', 'next': [3], 'inputs': []}\n",
      "** Step 3**{'order': 3, 'module': 'CODE', 'prompt': '/force CODE perform biomarker selection on the model of the 2015 dataset. Please select the appropriate parameters and inputs based on previous iterations.', 'description': 'This step performs biomarker selection via observability analysis.', 'template': ['parameters, please fill in'], 'next': [4], 'inputs': [2]}\n",
      "\n"
     ]
    }
   ],
   "source": [
    "print(bot.invoke('/force PLANNER Execute a biomarker selection pipeline for RNAseq data'))"
   ]
  },
  {
   "cell_type": "code",
   "execution_count": 5,
   "id": "1c9463f3-2d1e-40cd-90e9-29c10e4614e7",
   "metadata": {},
   "outputs": [
    {
     "name": "stdout",
     "output_type": "stream",
     "text": [
      "==================================================\n",
      "BRAD >> 2: \n"
     ]
    },
    {
     "name": "stderr",
     "output_type": "stream",
     "text": [
      "2024-11-21 09:13:47,912 - INFO - HTTP Request: POST https://api.openai.com/v1/chat/completions \"HTTP/1.1 200 OK\"\n"
     ]
    },
    {
     "name": "stdout",
     "output_type": "stream",
     "text": [
      "Hello BRAD, can you explain the concept of gene expression regulation in simple terms?\n"
     ]
    },
    {
     "data": {
      "text/plain": [
       "'Hello BRAD, can you explain the concept of gene expression regulation in simple terms?'"
      ]
     },
     "execution_count": 5,
     "metadata": {},
     "output_type": "execute_result"
    }
   ],
   "source": [
    "bot.invoke('')"
   ]
  }
 ],
 "metadata": {
  "kernelspec": {
   "display_name": "Python 3 (ipykernel)",
   "language": "python",
   "name": "python3"
  },
  "language_info": {
   "codemirror_mode": {
    "name": "ipython",
    "version": 3
   },
   "file_extension": ".py",
   "mimetype": "text/x-python",
   "name": "python",
   "nbconvert_exporter": "python",
   "pygments_lexer": "ipython3",
   "version": "3.11.7"
  }
 },
 "nbformat": 4,
 "nbformat_minor": 5
}
